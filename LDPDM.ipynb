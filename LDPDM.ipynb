{
 "cells": [
  {
   "cell_type": "code",
   "execution_count": 1,
   "metadata": {},
   "outputs": [
    {
     "name": "stderr",
     "output_type": "stream",
     "text": [
      "In C:\\ProgramData\\Anaconda3\\lib\\site-packages\\matplotlib\\mpl-data\\stylelib\\_classic_test.mplstyle: \n",
      "The text.latex.preview rcparam was deprecated in Matplotlib 3.3 and will be removed two minor releases later.\n",
      "In C:\\ProgramData\\Anaconda3\\lib\\site-packages\\matplotlib\\mpl-data\\stylelib\\_classic_test.mplstyle: \n",
      "The mathtext.fallback_to_cm rcparam was deprecated in Matplotlib 3.3 and will be removed two minor releases later.\n",
      "In C:\\ProgramData\\Anaconda3\\lib\\site-packages\\matplotlib\\mpl-data\\stylelib\\_classic_test.mplstyle: Support for setting the 'mathtext.fallback_to_cm' rcParam is deprecated since 3.3 and will be removed two minor releases later; use 'mathtext.fallback : 'cm' instead.\n",
      "In C:\\ProgramData\\Anaconda3\\lib\\site-packages\\matplotlib\\mpl-data\\stylelib\\_classic_test.mplstyle: \n",
      "The validate_bool_maybe_none function was deprecated in Matplotlib 3.3 and will be removed two minor releases later.\n",
      "In C:\\ProgramData\\Anaconda3\\lib\\site-packages\\matplotlib\\mpl-data\\stylelib\\_classic_test.mplstyle: \n",
      "The savefig.jpeg_quality rcparam was deprecated in Matplotlib 3.3 and will be removed two minor releases later.\n",
      "In C:\\ProgramData\\Anaconda3\\lib\\site-packages\\matplotlib\\mpl-data\\stylelib\\_classic_test.mplstyle: \n",
      "The keymap.all_axes rcparam was deprecated in Matplotlib 3.3 and will be removed two minor releases later.\n",
      "In C:\\ProgramData\\Anaconda3\\lib\\site-packages\\matplotlib\\mpl-data\\stylelib\\_classic_test.mplstyle: \n",
      "The animation.avconv_path rcparam was deprecated in Matplotlib 3.3 and will be removed two minor releases later.\n",
      "In C:\\ProgramData\\Anaconda3\\lib\\site-packages\\matplotlib\\mpl-data\\stylelib\\_classic_test.mplstyle: \n",
      "The animation.avconv_args rcparam was deprecated in Matplotlib 3.3 and will be removed two minor releases later.\n"
     ]
    }
   ],
   "source": [
    "#Importing Libraries\n",
    "import numpy as np\n",
    "import pandas as pd\n",
    "from sklearn.model_selection import StratifiedKFold\n",
    "from sklearn.model_selection import cross_val_score\n",
    "from sklearn.metrics import confusion_matrix\n",
    "import matplotlib.pyplot as plt\n",
    "%matplotlib inline\n",
    "import itertools\n",
    "from sklearn import metrics\n",
    "from sklearn.linear_model import LogisticRegression\n",
    "from sklearn.linear_model import LogisticRegressionCV\n",
    "from sklearn.ensemble import RandomForestClassifier\n",
    "from sklearn.ensemble import AdaBoostClassifier\n",
    "import time"
   ]
  },
  {
   "cell_type": "code",
   "execution_count": 2,
   "metadata": {},
   "outputs": [],
   "source": [
    "# Loading Data\n",
    "loan_data_inputs_train = pd.read_csv(r'C:\\Users\\WIN8\\Desktop\\PGDS 2020\\Models\\Lending Club Credit Risk\\Processed Datasets for PD New\\loan_data_inputs_train.csv', index_col = 0)\n",
    "loan_data_targets_train = pd.read_csv(r'C:\\Users\\WIN8\\Desktop\\PGDS 2020\\Models\\Lending Club Credit Risk\\Processed Datasets for PD New\\loan_data_targets_train.csv', index_col = 0, header = 0)\n",
    "loan_data_inputs_validation = pd.read_csv(r'C:\\Users\\WIN8\\Desktop\\PGDS 2020\\Models\\Lending Club Credit Risk\\Processed Datasets for PD New\\loan_data_inputs_validation.csv', index_col = 0)\n",
    "loan_data_targets_validation = pd.read_csv(r'C:\\Users\\WIN8\\Desktop\\PGDS 2020\\Models\\Lending Club Credit Risk\\Processed Datasets for PD New\\loan_data_targets_validation.csv', index_col = 0, header = 0)\n",
    "loan_data_inputs_test = pd.read_csv(r'C:\\Users\\WIN8\\Desktop\\PGDS 2020\\Models\\Lending Club Credit Risk\\Processed Datasets for PD New\\loan_data_inputs_test.csv', index_col = 0)\n",
    "loan_data_targets_test = pd.read_csv(r'C:\\Users\\WIN8\\Desktop\\PGDS 2020\\Models\\Lending Club Credit Risk\\Processed Datasets for PD New\\loan_data_targets_test.csv', index_col = 0, header = 0)"
   ]
  },
  {
   "cell_type": "code",
   "execution_count": 3,
   "metadata": {},
   "outputs": [],
   "source": [
    "#loan_data_inputs_train\n",
    "#loan_data_targets_train\n",
    "#loan_data_inputs_validation\n",
    "#loan_data_targets_validation\n",
    "#loan_data_inputs_test\n",
    "#loan_data_targets_test"
   ]
  },
  {
   "cell_type": "markdown",
   "metadata": {},
   "source": [
    "## Scoring"
   ]
  },
  {
   "cell_type": "code",
   "execution_count": 4,
   "metadata": {},
   "outputs": [],
   "source": [
    "# dataframe where we track all cross-validation scoring metrics\n",
    "df_cv_scores = pd.DataFrame({'model':['dummy'], 'accuracy':[0], 'f1':[0], 'roc_auc':[0]}, \n",
    "                            columns=['accuracy','f1','roc_auc'], index=['model'])\n",
    "df_cv_scores_pca = df_cv_scores.copy()\n",
    "\n",
    "df_y_pred_probas = pd.DataFrame({'model':np.zeros(loan_data_inputs_validation.shape[0])}) \n",
    "df_y_preds = pd.DataFrame({'model':np.zeros(loan_data_inputs_validation.shape[0])})  \n",
    "\n",
    "# function adjusts class predictions based on the prediction threshold\n",
    "def adjust_proba(probs, threshold):\n",
    "    return [1 if proba >= threshold else 0 for proba in probs]\n",
    "\n",
    "# function for computing 5-fold cross-validation scoring scores\n",
    "def predict_evaluate_cv(model, X, y, df_cv_scores):\n",
    "    cv = StratifiedKFold(n_splits=5, random_state=9999) \n",
    "    score_accuracy = cross_val_score(model, X, y, cv=cv, scoring='accuracy').mean()\n",
    "    score_f1 = cross_val_score(model, X, y, cv=cv, scoring='f1').mean()\n",
    "    score_auc = cross_val_score(model, X, y, cv=cv, scoring='roc_auc').mean()\n",
    "    df_cv_scores.loc[model.__class__.__name__] = [score_accuracy, score_f1, score_auc]\n",
    "    print('K-fold cross-validation results on validation set:')\n",
    "    print(\" average accuracy is {0:0.2%}\".format(score_accuracy))\n",
    "    print(\" average F1 is {0:0.2%}\".format(score_f1))\n",
    "    print(\" average roc_auc is {0:0.2%}\".format(score_auc))\n",
    "    \n",
    "# function for computing the confusion matrix\n",
    "def predict_evaluate_cm(model, X, y, threshold=.5):\n",
    "    model_name = model.__class__.__name__\n",
    "    classes = ['Fully Paid', 'Charged-Off']\n",
    "    y_true = y\n",
    "    if model_name == 'SVC':\n",
    "        y_pred_proba = model.decision_function(X)\n",
    "    else:\n",
    "        y_pred_proba = model.predict_proba(X)[:, 1]\n",
    "    df_y_pred_probas[model_name] = y_pred_proba\n",
    "    y_pred = adjust_proba(y_pred_proba, threshold)\n",
    "    cm = confusion_matrix(y_true, y_pred)\n",
    "    cm = cm.astype('float')\n",
    "    np.set_printoptions(precision=2)\n",
    "    plt.figure(figsize=(5,5))\n",
    "    plt.imshow(cm, interpolation='nearest', cmap=plt.cm.Blues)\n",
    "    plt.title('Confusion matrix')\n",
    "    plt.colorbar()\n",
    "    tick_marks = np.arange(len(classes))\n",
    "    plt.xticks(tick_marks, classes, rotation=45)\n",
    "    plt.yticks(tick_marks, classes)\n",
    "\n",
    "    fmt = '.2f'\n",
    "    thresh = cm.max() / 2.\n",
    "    for i, j in itertools.product(range(cm.shape[0]), range(cm.shape[1])):\n",
    "        plt.text(j, i, format(cm[i, j], fmt),\n",
    "                 horizontalalignment=\"center\",\n",
    "                 color=\"gray\" if cm[i, j] > thresh else \"black\")\n",
    "\n",
    "    plt.tight_layout()\n",
    "    plt.ylabel('True label')\n",
    "    plt.xlabel('Predicted label')\n",
    "    plt.grid(False)\n",
    "    plt.rcParams[\"axes.edgecolor\"] = \"0.85\"\n",
    "    plt.show()\n",
    "\n",
    "# function for compution the roc plot\n",
    "def predict_evaluate_roc(model, X, y, threshold=.5):\n",
    "    y_pred = model.predict(X)\n",
    "    model_name = model.__class__.__name__\n",
    "    df_y_preds[model_name] = y_pred\n",
    "    if model_name == 'SVC':\n",
    "        y_pred_proba = model.decision_function(X)\n",
    "    else:\n",
    "        y_pred_proba = model.predict_proba(X)[:, 1]\n",
    "    [fpr, tpr, thr] = metrics.roc_curve(y, y_pred_proba)\n",
    "\n",
    "    idx = np.min(np.where(tpr > threshold))\n",
    "    plt.figure()\n",
    "    plt.plot(fpr, tpr, color='coral', label='ROC curve (area = %0.3f)' % metrics.auc(fpr, tpr))\n",
    "    plt.plot([0, 1], [0, 1], 'k--')\n",
    "    plt.plot([0,fpr[idx]], [tpr[idx],tpr[idx]], 'k--', color='blue')\n",
    "    plt.plot([fpr[idx],fpr[idx]], [0,tpr[idx]], 'k--', color='blue')\n",
    "    plt.xlim([0.0, 1.0])\n",
    "    plt.ylim([0.0, 1.05])\n",
    "    plt.xlabel('False Positive Rate (1 - specificity)', fontsize=14)\n",
    "    plt.ylabel('True Positive Rate (recall)', fontsize=14)\n",
    "    plt.title('Receiver operating characteristic (ROC) curve - {}'.format(model_name))\n",
    "    plt.legend(loc=\"lower right\")\n",
    "    plt.show()\n",
    "\n",
    "    print(\"Using a threshold of %.3f \" % thr[idx] + \"guarantees a sensitivity of %.3f \" % tpr[idx] +  \n",
    "          \"and a specificity of %.3f\" % (1-fpr[idx]) + \n",
    "          \", i.e. a false positive rate of %.2f%%.\" % (np.array(fpr[idx])*100))\n",
    "    \n",
    "# global function for fitting, cross-validating and evaluating a given classifier\n",
    "def fit_predict_evaluate(model, Xtrain, ytrain, Xval, yval, df_cv_scores):\n",
    "    model.fit(Xtrain, ytrain)\n",
    "    print(model.__class__.__name__+\":\")\n",
    "    print('Accuracy score on training set is {0:0.2%}'.format(model.score(Xtrain, ytrain)))\n",
    "    predict_evaluate_cv(model, Xval, yval, df_cv_scores)\n",
    "    predict_evaluate_cm(model, Xval, yval)\n",
    "    predict_evaluate_roc(model, Xval, yval)\n",
    "    return model\n",
    "\n"
   ]
  },
  {
   "cell_type": "code",
   "execution_count": 5,
   "metadata": {},
   "outputs": [
    {
     "data": {
      "text/html": [
       "<div>\n",
       "<style scoped>\n",
       "    .dataframe tbody tr th:only-of-type {\n",
       "        vertical-align: middle;\n",
       "    }\n",
       "\n",
       "    .dataframe tbody tr th {\n",
       "        vertical-align: top;\n",
       "    }\n",
       "\n",
       "    .dataframe thead th {\n",
       "        text-align: right;\n",
       "    }\n",
       "</style>\n",
       "<table border=\"1\" class=\"dataframe\">\n",
       "  <thead>\n",
       "    <tr style=\"text-align: right;\">\n",
       "      <th></th>\n",
       "      <th>home_ownership:MORTGAGE</th>\n",
       "      <th>addr_state:AK_DC_KS_WY_ID_ME</th>\n",
       "      <th>addr_state:SD_OK_MS_MT_NE_IA_ND</th>\n",
       "      <th>addr_state:TN_HI_NV</th>\n",
       "      <th>addr_state:AZ_RI_NY</th>\n",
       "      <th>addr_state:VA_LA</th>\n",
       "      <th>addr_state:MD_AL_IN_MO</th>\n",
       "      <th>addr_state:MA_AR</th>\n",
       "      <th>addr_state:MI_DE_WI</th>\n",
       "      <th>addr_state:NC_NM</th>\n",
       "      <th>...</th>\n",
       "      <th>mths_since_last_delinq:54-82</th>\n",
       "      <th>mths_since_last_delinq:&gt;=82</th>\n",
       "      <th>dti:12-18</th>\n",
       "      <th>dti:18-22</th>\n",
       "      <th>dti:22-30</th>\n",
       "      <th>dti:&gt;30</th>\n",
       "      <th>mths_since_last_record:0-15</th>\n",
       "      <th>mths_since_last_record:15-38</th>\n",
       "      <th>mths_since_last_record:38-72</th>\n",
       "      <th>mths_since_last_record:&gt;=72</th>\n",
       "    </tr>\n",
       "  </thead>\n",
       "  <tbody>\n",
       "    <tr>\n",
       "      <th>0</th>\n",
       "      <td>1</td>\n",
       "      <td>0</td>\n",
       "      <td>0</td>\n",
       "      <td>0</td>\n",
       "      <td>0</td>\n",
       "      <td>0</td>\n",
       "      <td>0</td>\n",
       "      <td>0</td>\n",
       "      <td>0</td>\n",
       "      <td>0</td>\n",
       "      <td>...</td>\n",
       "      <td>0</td>\n",
       "      <td>0</td>\n",
       "      <td>0</td>\n",
       "      <td>0</td>\n",
       "      <td>1</td>\n",
       "      <td>0</td>\n",
       "      <td>0</td>\n",
       "      <td>0</td>\n",
       "      <td>0</td>\n",
       "      <td>0</td>\n",
       "    </tr>\n",
       "    <tr>\n",
       "      <th>1</th>\n",
       "      <td>0</td>\n",
       "      <td>0</td>\n",
       "      <td>0</td>\n",
       "      <td>0</td>\n",
       "      <td>0</td>\n",
       "      <td>0</td>\n",
       "      <td>0</td>\n",
       "      <td>0</td>\n",
       "      <td>0</td>\n",
       "      <td>0</td>\n",
       "      <td>...</td>\n",
       "      <td>0</td>\n",
       "      <td>0</td>\n",
       "      <td>0</td>\n",
       "      <td>0</td>\n",
       "      <td>0</td>\n",
       "      <td>0</td>\n",
       "      <td>0</td>\n",
       "      <td>0</td>\n",
       "      <td>0</td>\n",
       "      <td>0</td>\n",
       "    </tr>\n",
       "    <tr>\n",
       "      <th>2</th>\n",
       "      <td>1</td>\n",
       "      <td>0</td>\n",
       "      <td>0</td>\n",
       "      <td>0</td>\n",
       "      <td>0</td>\n",
       "      <td>0</td>\n",
       "      <td>0</td>\n",
       "      <td>0</td>\n",
       "      <td>0</td>\n",
       "      <td>0</td>\n",
       "      <td>...</td>\n",
       "      <td>0</td>\n",
       "      <td>0</td>\n",
       "      <td>0</td>\n",
       "      <td>1</td>\n",
       "      <td>0</td>\n",
       "      <td>0</td>\n",
       "      <td>0</td>\n",
       "      <td>0</td>\n",
       "      <td>0</td>\n",
       "      <td>0</td>\n",
       "    </tr>\n",
       "    <tr>\n",
       "      <th>3</th>\n",
       "      <td>1</td>\n",
       "      <td>0</td>\n",
       "      <td>0</td>\n",
       "      <td>0</td>\n",
       "      <td>0</td>\n",
       "      <td>0</td>\n",
       "      <td>0</td>\n",
       "      <td>0</td>\n",
       "      <td>0</td>\n",
       "      <td>0</td>\n",
       "      <td>...</td>\n",
       "      <td>0</td>\n",
       "      <td>0</td>\n",
       "      <td>0</td>\n",
       "      <td>0</td>\n",
       "      <td>1</td>\n",
       "      <td>0</td>\n",
       "      <td>0</td>\n",
       "      <td>0</td>\n",
       "      <td>0</td>\n",
       "      <td>0</td>\n",
       "    </tr>\n",
       "    <tr>\n",
       "      <th>4</th>\n",
       "      <td>0</td>\n",
       "      <td>0</td>\n",
       "      <td>0</td>\n",
       "      <td>0</td>\n",
       "      <td>1</td>\n",
       "      <td>0</td>\n",
       "      <td>0</td>\n",
       "      <td>0</td>\n",
       "      <td>0</td>\n",
       "      <td>0</td>\n",
       "      <td>...</td>\n",
       "      <td>0</td>\n",
       "      <td>0</td>\n",
       "      <td>0</td>\n",
       "      <td>0</td>\n",
       "      <td>0</td>\n",
       "      <td>0</td>\n",
       "      <td>0</td>\n",
       "      <td>0</td>\n",
       "      <td>0</td>\n",
       "      <td>0</td>\n",
       "    </tr>\n",
       "  </tbody>\n",
       "</table>\n",
       "<p>5 rows × 68 columns</p>\n",
       "</div>"
      ],
      "text/plain": [
       "   home_ownership:MORTGAGE  addr_state:AK_DC_KS_WY_ID_ME  \\\n",
       "0                        1                             0   \n",
       "1                        0                             0   \n",
       "2                        1                             0   \n",
       "3                        1                             0   \n",
       "4                        0                             0   \n",
       "\n",
       "   addr_state:SD_OK_MS_MT_NE_IA_ND  addr_state:TN_HI_NV  addr_state:AZ_RI_NY  \\\n",
       "0                                0                    0                    0   \n",
       "1                                0                    0                    0   \n",
       "2                                0                    0                    0   \n",
       "3                                0                    0                    0   \n",
       "4                                0                    0                    1   \n",
       "\n",
       "   addr_state:VA_LA  addr_state:MD_AL_IN_MO  addr_state:MA_AR  \\\n",
       "0                 0                       0                 0   \n",
       "1                 0                       0                 0   \n",
       "2                 0                       0                 0   \n",
       "3                 0                       0                 0   \n",
       "4                 0                       0                 0   \n",
       "\n",
       "   addr_state:MI_DE_WI  addr_state:NC_NM  ...  mths_since_last_delinq:54-82  \\\n",
       "0                    0                 0  ...                             0   \n",
       "1                    0                 0  ...                             0   \n",
       "2                    0                 0  ...                             0   \n",
       "3                    0                 0  ...                             0   \n",
       "4                    0                 0  ...                             0   \n",
       "\n",
       "   mths_since_last_delinq:>=82  dti:12-18  dti:18-22  dti:22-30  dti:>30  \\\n",
       "0                            0          0          0          1        0   \n",
       "1                            0          0          0          0        0   \n",
       "2                            0          0          1          0        0   \n",
       "3                            0          0          0          1        0   \n",
       "4                            0          0          0          0        0   \n",
       "\n",
       "   mths_since_last_record:0-15  mths_since_last_record:15-38  \\\n",
       "0                            0                             0   \n",
       "1                            0                             0   \n",
       "2                            0                             0   \n",
       "3                            0                             0   \n",
       "4                            0                             0   \n",
       "\n",
       "   mths_since_last_record:38-72  mths_since_last_record:>=72  \n",
       "0                             0                            0  \n",
       "1                             0                            0  \n",
       "2                             0                            0  \n",
       "3                             0                            0  \n",
       "4                             0                            0  \n",
       "\n",
       "[5 rows x 68 columns]"
      ]
     },
     "execution_count": 5,
     "metadata": {},
     "output_type": "execute_result"
    }
   ],
   "source": [
    "# Selecting the variables\n",
    "inputs_train_with_ref_cat = loan_data_inputs_train.loc[:,['home_ownership:RENT_OTHER_NONE_ANY',\n",
    "'home_ownership:MORTGAGE',\n",
    "'addr_state:AK_DC_KS_WY_ID_ME',\n",
    "'addr_state:SD_OK_MS_MT_NE_IA_ND',\n",
    "'addr_state:TN_HI_NV',\n",
    "'addr_state:AZ_RI_NY',\n",
    "'addr_state:VA_LA',\n",
    "'addr_state:MD_AL_IN_MO',\n",
    "'addr_state:MA_AR',\n",
    "'addr_state:MI_DE_WI',\n",
    "'addr_state:NC_NM',\n",
    "'addr_state:CO_MN_NH_KY_VT',\n",
    "'addr_state:SC_WV_UT',\n",
    "'purpose:house_moving',\n",
    "'purpose:other_medical',\n",
    "'purpose:vacation_major_purchase',\n",
    "'purpose:wedding_renewable_energy',\n",
    "'sub_grade:G5_G3_G4',\n",
    "'sub_grade:G1_G2_F3_F5',\n",
    "'sub_grade:E2_E4_F4_E5_F1_F2',\n",
    "'term:36',\n",
    "'term:60',\n",
    "'emp_length:0',\n",
    "'emp_length:1',\n",
    "'emp_length:2',\n",
    "'emp_length:3',\n",
    "'emp_length:4',\n",
    "'emp_length:5',\n",
    "'emp_length:6',\n",
    "'emp_length:7',\n",
    "'emp_length:8',\n",
    "'emp_length:9',\n",
    "'emp_length:10',\n",
    "'months_issue_d_date:<49',\n",
    "'months_issue_d_date:49-54',\n",
    "'months_issue_d_date:55-61',\n",
    "'months_issue_d_date:62-77',\n",
    "'months_issue_d_date:>77',\n",
    "'int_rate:<9.548',\n",
    "'int_rate:9.548-12.025',\n",
    "'int_rate:12.025-15.74',\n",
    "'int_rate:15.74-20.281',\n",
    "'int_rate:>20.281',\n",
    "'months_since_earliest_cr_line:<153',\n",
    "'months_since_earliest_cr_line:154-258',\n",
    "'months_since_earliest_cr_line:<258-387',\n",
    "'months_since_earliest_cr_line:<387',\n",
    "'delinq_2yrs:<5',\n",
    "'delinq_2yrs:5-10',\n",
    "'delinq_2yrs:>10',\n",
    "'inq_last_6mths:<4',\n",
    "'inq_last_6mths:4-6',\n",
    "'inq_last_6mths:>6',\n",
    "'acc_now_delinq:<1',\n",
    "'acc_now_delinq:>1',\n",
    "'annual_inc:<20K',\n",
    "'annual_inc:20K-30K',\n",
    "'annual_inc:30K-40K',\n",
    "'annual_inc:40K-50K',\n",
    "'annual_inc:50K-60K',\n",
    "'annual_inc:60K-70K',\n",
    "'annual_inc:70K-80K',\n",
    "'annual_inc:80K-90K',\n",
    "'annual_inc:90K-100K',\n",
    "'annual_inc:100K-120K',\n",
    "'annual_inc:120K-140K',\n",
    "'annual_inc:>140K',\n",
    "'mths_since_last_delinq:Missing',\n",
    "'mths_since_last_delinq:0-7',\n",
    "'mths_since_last_delinq:7-18',\n",
    "'mths_since_last_delinq:18-36',\n",
    "'mths_since_last_delinq:36-54',\n",
    "'mths_since_last_delinq:54-82',\n",
    "'mths_since_last_delinq:>=82',\n",
    "'dti:<12',\n",
    "'dti:12-18',\n",
    "'dti:18-22',\n",
    "'dti:22-30',\n",
    "'dti:>30',\n",
    "'mths_since_last_record:Missing',\n",
    "'mths_since_last_record:0-15',\n",
    "'mths_since_last_record:15-38',\n",
    "'mths_since_last_record:38-72',\n",
    "'mths_since_last_record:>=72']]\n",
    "\n",
    "\n",
    "# Removing the 1 extra dummy variable from the reference categories.\n",
    "ref_categories = ['home_ownership:RENT_OTHER_NONE_ANY',\n",
    "'addr_state:SC_WV_UT',\n",
    "'purpose:wedding_renewable_energy',\n",
    "'sub_grade:G5_G3_G4',\n",
    "'term:36',\n",
    "'emp_length:0',\n",
    "'months_issue_d_date:<49',\n",
    "'int_rate:<9.548',\n",
    "'months_since_earliest_cr_line:<153',\n",
    "'delinq_2yrs:<5',\n",
    "'inq_last_6mths:<4',\n",
    "'acc_now_delinq:<1',\n",
    "'annual_inc:<20K',\n",
    "'mths_since_last_delinq:Missing',\n",
    "'dti:<12',\n",
    "'mths_since_last_record:Missing']\n",
    "\n",
    "inputs_train = inputs_train_with_ref_cat.drop(ref_categories, axis = 1)\n",
    "inputs_train.head()"
   ]
  },
  {
   "cell_type": "code",
   "execution_count": 6,
   "metadata": {},
   "outputs": [
    {
     "data": {
      "text/html": [
       "<div>\n",
       "<style scoped>\n",
       "    .dataframe tbody tr th:only-of-type {\n",
       "        vertical-align: middle;\n",
       "    }\n",
       "\n",
       "    .dataframe tbody tr th {\n",
       "        vertical-align: top;\n",
       "    }\n",
       "\n",
       "    .dataframe thead th {\n",
       "        text-align: right;\n",
       "    }\n",
       "</style>\n",
       "<table border=\"1\" class=\"dataframe\">\n",
       "  <thead>\n",
       "    <tr style=\"text-align: right;\">\n",
       "      <th></th>\n",
       "      <th>home_ownership:MORTGAGE</th>\n",
       "      <th>addr_state:AK_DC_KS_WY_ID_ME</th>\n",
       "      <th>addr_state:SD_OK_MS_MT_NE_IA_ND</th>\n",
       "      <th>addr_state:TN_HI_NV</th>\n",
       "      <th>addr_state:AZ_RI_NY</th>\n",
       "      <th>addr_state:VA_LA</th>\n",
       "      <th>addr_state:MD_AL_IN_MO</th>\n",
       "      <th>addr_state:MA_AR</th>\n",
       "      <th>addr_state:MI_DE_WI</th>\n",
       "      <th>addr_state:NC_NM</th>\n",
       "      <th>...</th>\n",
       "      <th>mths_since_last_delinq:54-82</th>\n",
       "      <th>mths_since_last_delinq:&gt;=82</th>\n",
       "      <th>dti:12-18</th>\n",
       "      <th>dti:18-22</th>\n",
       "      <th>dti:22-30</th>\n",
       "      <th>dti:&gt;30</th>\n",
       "      <th>mths_since_last_record:0-15</th>\n",
       "      <th>mths_since_last_record:15-38</th>\n",
       "      <th>mths_since_last_record:38-72</th>\n",
       "      <th>mths_since_last_record:&gt;=72</th>\n",
       "    </tr>\n",
       "  </thead>\n",
       "  <tbody>\n",
       "    <tr>\n",
       "      <th>0</th>\n",
       "      <td>0</td>\n",
       "      <td>0</td>\n",
       "      <td>0</td>\n",
       "      <td>0</td>\n",
       "      <td>0</td>\n",
       "      <td>0</td>\n",
       "      <td>0</td>\n",
       "      <td>0</td>\n",
       "      <td>0</td>\n",
       "      <td>0</td>\n",
       "      <td>...</td>\n",
       "      <td>0</td>\n",
       "      <td>0</td>\n",
       "      <td>0</td>\n",
       "      <td>0</td>\n",
       "      <td>0</td>\n",
       "      <td>0</td>\n",
       "      <td>0</td>\n",
       "      <td>0</td>\n",
       "      <td>0</td>\n",
       "      <td>0</td>\n",
       "    </tr>\n",
       "    <tr>\n",
       "      <th>1</th>\n",
       "      <td>0</td>\n",
       "      <td>0</td>\n",
       "      <td>0</td>\n",
       "      <td>0</td>\n",
       "      <td>1</td>\n",
       "      <td>0</td>\n",
       "      <td>0</td>\n",
       "      <td>0</td>\n",
       "      <td>0</td>\n",
       "      <td>0</td>\n",
       "      <td>...</td>\n",
       "      <td>0</td>\n",
       "      <td>0</td>\n",
       "      <td>1</td>\n",
       "      <td>0</td>\n",
       "      <td>0</td>\n",
       "      <td>0</td>\n",
       "      <td>0</td>\n",
       "      <td>0</td>\n",
       "      <td>0</td>\n",
       "      <td>0</td>\n",
       "    </tr>\n",
       "    <tr>\n",
       "      <th>2</th>\n",
       "      <td>1</td>\n",
       "      <td>0</td>\n",
       "      <td>0</td>\n",
       "      <td>0</td>\n",
       "      <td>0</td>\n",
       "      <td>1</td>\n",
       "      <td>0</td>\n",
       "      <td>0</td>\n",
       "      <td>0</td>\n",
       "      <td>0</td>\n",
       "      <td>...</td>\n",
       "      <td>0</td>\n",
       "      <td>0</td>\n",
       "      <td>0</td>\n",
       "      <td>0</td>\n",
       "      <td>0</td>\n",
       "      <td>0</td>\n",
       "      <td>0</td>\n",
       "      <td>0</td>\n",
       "      <td>0</td>\n",
       "      <td>0</td>\n",
       "    </tr>\n",
       "    <tr>\n",
       "      <th>3</th>\n",
       "      <td>0</td>\n",
       "      <td>0</td>\n",
       "      <td>0</td>\n",
       "      <td>0</td>\n",
       "      <td>1</td>\n",
       "      <td>0</td>\n",
       "      <td>0</td>\n",
       "      <td>0</td>\n",
       "      <td>0</td>\n",
       "      <td>0</td>\n",
       "      <td>...</td>\n",
       "      <td>1</td>\n",
       "      <td>0</td>\n",
       "      <td>0</td>\n",
       "      <td>0</td>\n",
       "      <td>1</td>\n",
       "      <td>0</td>\n",
       "      <td>0</td>\n",
       "      <td>0</td>\n",
       "      <td>0</td>\n",
       "      <td>0</td>\n",
       "    </tr>\n",
       "    <tr>\n",
       "      <th>4</th>\n",
       "      <td>1</td>\n",
       "      <td>0</td>\n",
       "      <td>0</td>\n",
       "      <td>0</td>\n",
       "      <td>0</td>\n",
       "      <td>0</td>\n",
       "      <td>0</td>\n",
       "      <td>0</td>\n",
       "      <td>0</td>\n",
       "      <td>0</td>\n",
       "      <td>...</td>\n",
       "      <td>0</td>\n",
       "      <td>0</td>\n",
       "      <td>0</td>\n",
       "      <td>1</td>\n",
       "      <td>0</td>\n",
       "      <td>0</td>\n",
       "      <td>0</td>\n",
       "      <td>0</td>\n",
       "      <td>0</td>\n",
       "      <td>0</td>\n",
       "    </tr>\n",
       "  </tbody>\n",
       "</table>\n",
       "<p>5 rows × 68 columns</p>\n",
       "</div>"
      ],
      "text/plain": [
       "   home_ownership:MORTGAGE  addr_state:AK_DC_KS_WY_ID_ME  \\\n",
       "0                        0                             0   \n",
       "1                        0                             0   \n",
       "2                        1                             0   \n",
       "3                        0                             0   \n",
       "4                        1                             0   \n",
       "\n",
       "   addr_state:SD_OK_MS_MT_NE_IA_ND  addr_state:TN_HI_NV  addr_state:AZ_RI_NY  \\\n",
       "0                                0                    0                    0   \n",
       "1                                0                    0                    1   \n",
       "2                                0                    0                    0   \n",
       "3                                0                    0                    1   \n",
       "4                                0                    0                    0   \n",
       "\n",
       "   addr_state:VA_LA  addr_state:MD_AL_IN_MO  addr_state:MA_AR  \\\n",
       "0                 0                       0                 0   \n",
       "1                 0                       0                 0   \n",
       "2                 1                       0                 0   \n",
       "3                 0                       0                 0   \n",
       "4                 0                       0                 0   \n",
       "\n",
       "   addr_state:MI_DE_WI  addr_state:NC_NM  ...  mths_since_last_delinq:54-82  \\\n",
       "0                    0                 0  ...                             0   \n",
       "1                    0                 0  ...                             0   \n",
       "2                    0                 0  ...                             0   \n",
       "3                    0                 0  ...                             1   \n",
       "4                    0                 0  ...                             0   \n",
       "\n",
       "   mths_since_last_delinq:>=82  dti:12-18  dti:18-22  dti:22-30  dti:>30  \\\n",
       "0                            0          0          0          0        0   \n",
       "1                            0          1          0          0        0   \n",
       "2                            0          0          0          0        0   \n",
       "3                            0          0          0          1        0   \n",
       "4                            0          0          1          0        0   \n",
       "\n",
       "   mths_since_last_record:0-15  mths_since_last_record:15-38  \\\n",
       "0                            0                             0   \n",
       "1                            0                             0   \n",
       "2                            0                             0   \n",
       "3                            0                             0   \n",
       "4                            0                             0   \n",
       "\n",
       "   mths_since_last_record:38-72  mths_since_last_record:>=72  \n",
       "0                             0                            0  \n",
       "1                             0                            0  \n",
       "2                             0                            0  \n",
       "3                             0                            0  \n",
       "4                             0                            0  \n",
       "\n",
       "[5 rows x 68 columns]"
      ]
     },
     "execution_count": 6,
     "metadata": {},
     "output_type": "execute_result"
    }
   ],
   "source": [
    "# Selecting the variables\n",
    "inputs_validation_with_ref_cat = loan_data_inputs_validation.loc[:,['home_ownership:RENT_OTHER_NONE_ANY',\n",
    "'home_ownership:MORTGAGE',\n",
    "'addr_state:AK_DC_KS_WY_ID_ME',\n",
    "'addr_state:SD_OK_MS_MT_NE_IA_ND',\n",
    "'addr_state:TN_HI_NV',\n",
    "'addr_state:AZ_RI_NY',\n",
    "'addr_state:VA_LA',\n",
    "'addr_state:MD_AL_IN_MO',\n",
    "'addr_state:MA_AR',\n",
    "'addr_state:MI_DE_WI',\n",
    "'addr_state:NC_NM',\n",
    "'addr_state:CO_MN_NH_KY_VT',\n",
    "'addr_state:SC_WV_UT',\n",
    "'purpose:house_moving',\n",
    "'purpose:other_medical',\n",
    "'purpose:vacation_major_purchase',\n",
    "'purpose:wedding_renewable_energy',\n",
    "'sub_grade:G5_G3_G4',\n",
    "'sub_grade:G1_G2_F3_F5',\n",
    "'sub_grade:E2_E4_F4_E5_F1_F2',\n",
    "'term:36',\n",
    "'term:60',\n",
    "'emp_length:0',\n",
    "'emp_length:1',\n",
    "'emp_length:2',\n",
    "'emp_length:3',\n",
    "'emp_length:4',\n",
    "'emp_length:5',\n",
    "'emp_length:6',\n",
    "'emp_length:7',\n",
    "'emp_length:8',\n",
    "'emp_length:9',\n",
    "'emp_length:10',\n",
    "'months_issue_d_date:<49',\n",
    "'months_issue_d_date:49-54',\n",
    "'months_issue_d_date:55-61',\n",
    "'months_issue_d_date:62-77',\n",
    "'months_issue_d_date:>77',\n",
    "'int_rate:<9.548',\n",
    "'int_rate:9.548-12.025',\n",
    "'int_rate:12.025-15.74',\n",
    "'int_rate:15.74-20.281',\n",
    "'int_rate:>20.281',\n",
    "'months_since_earliest_cr_line:<153',\n",
    "'months_since_earliest_cr_line:154-258',\n",
    "'months_since_earliest_cr_line:<258-387',\n",
    "'months_since_earliest_cr_line:<387',\n",
    "'delinq_2yrs:<5',\n",
    "'delinq_2yrs:5-10',\n",
    "'delinq_2yrs:>10',\n",
    "'inq_last_6mths:<4',\n",
    "'inq_last_6mths:4-6',\n",
    "'inq_last_6mths:>6',\n",
    "'acc_now_delinq:<1',\n",
    "'acc_now_delinq:>1',\n",
    "'annual_inc:<20K',\n",
    "'annual_inc:20K-30K',\n",
    "'annual_inc:30K-40K',\n",
    "'annual_inc:40K-50K',\n",
    "'annual_inc:50K-60K',\n",
    "'annual_inc:60K-70K',\n",
    "'annual_inc:70K-80K',\n",
    "'annual_inc:80K-90K',\n",
    "'annual_inc:90K-100K',\n",
    "'annual_inc:100K-120K',\n",
    "'annual_inc:120K-140K',\n",
    "'annual_inc:>140K',\n",
    "'mths_since_last_delinq:Missing',\n",
    "'mths_since_last_delinq:0-7',\n",
    "'mths_since_last_delinq:7-18',\n",
    "'mths_since_last_delinq:18-36',\n",
    "'mths_since_last_delinq:36-54',\n",
    "'mths_since_last_delinq:54-82',\n",
    "'mths_since_last_delinq:>=82',\n",
    "'dti:<12',\n",
    "'dti:12-18',\n",
    "'dti:18-22',\n",
    "'dti:22-30',\n",
    "'dti:>30',\n",
    "'mths_since_last_record:Missing',\n",
    "'mths_since_last_record:0-15',\n",
    "'mths_since_last_record:15-38',\n",
    "'mths_since_last_record:38-72',\n",
    "'mths_since_last_record:>=72']]\n",
    "\n",
    "\n",
    "# Removing the 1 extra dummy variable from the reference categories.\n",
    "ref_categories = ['home_ownership:RENT_OTHER_NONE_ANY',\n",
    "'addr_state:SC_WV_UT',\n",
    "'purpose:wedding_renewable_energy',\n",
    "'sub_grade:G5_G3_G4',\n",
    "'term:36',\n",
    "'emp_length:0',\n",
    "'months_issue_d_date:<49',\n",
    "'int_rate:<9.548',\n",
    "'months_since_earliest_cr_line:<153',\n",
    "'delinq_2yrs:<5',\n",
    "'inq_last_6mths:<4',\n",
    "'acc_now_delinq:<1',\n",
    "'annual_inc:<20K',\n",
    "'mths_since_last_delinq:Missing',\n",
    "'dti:<12',\n",
    "'mths_since_last_record:Missing']\n",
    "\n",
    "inputs_validation = inputs_validation_with_ref_cat.drop(ref_categories, axis = 1)\n",
    "inputs_validation.head()"
   ]
  },
  {
   "cell_type": "code",
   "execution_count": 7,
   "metadata": {},
   "outputs": [],
   "source": [
    "#loan_data_inputs_train\n",
    "#loan_data_targets_train\n",
    "#loan_data_inputs_validation\n",
    "#loan_data_targets_validation\n",
    "#loan_data_inputs_test\n",
    "#loan_data_targets_test"
   ]
  },
  {
   "cell_type": "code",
   "execution_count": 8,
   "metadata": {},
   "outputs": [],
   "source": [
    "from sklearn.decomposition import PCA\n",
    "\n",
    "pca_fit = PCA(25).fit(inputs_train)\n",
    "X_train_pca = pca_fit.transform(inputs_train)\n",
    "X_val_pca = pca_fit.transform(inputs_validation)"
   ]
  },
  {
   "cell_type": "code",
   "execution_count": 9,
   "metadata": {},
   "outputs": [
    {
     "data": {
      "text/plain": [
       "(585974, 25)"
      ]
     },
     "execution_count": 9,
     "metadata": {},
     "output_type": "execute_result"
    }
   ],
   "source": [
    "X_train_pca.shape"
   ]
  },
  {
   "cell_type": "markdown",
   "metadata": {},
   "source": [
    "### Decision Tree Classifier"
   ]
  },
  {
   "cell_type": "code",
   "execution_count": 10,
   "metadata": {},
   "outputs": [
    {
     "name": "stdout",
     "output_type": "stream",
     "text": [
      "DecisionTreeClassifier:\n",
      "Accuracy score on training set is 97.77%\n"
     ]
    },
    {
     "name": "stderr",
     "output_type": "stream",
     "text": [
      "C:\\Users\\WIN8\\AppData\\Roaming\\Python\\Python37\\site-packages\\sklearn\\model_selection\\_split.py:297: FutureWarning: Setting a random_state has no effect since shuffle is False. This will raise an error in 0.24. You should leave random_state to its default (None), or set shuffle=True.\n",
      "  FutureWarning\n"
     ]
    },
    {
     "name": "stdout",
     "output_type": "stream",
     "text": [
      "K-fold cross-validation results on validation set:\n",
      " average accuracy is 95.84%\n",
      " average F1 is 95.71%\n",
      " average roc_auc is 96.13%\n"
     ]
    },
    {
     "data": {
      "image/png": "[encoded data removed]",
      "text/plain": [
       "<Figure size 360x360 with 2 Axes>"
      ]
     },
     "metadata": {
      "needs_background": "light"
     },
     "output_type": "display_data"
    },
    {
     "data": {
      "image/png": "[encoded data removed]",
      "text/plain": [
       "<Figure size 432x288 with 1 Axes>"
      ]
     },
     "metadata": {
      "needs_background": "light"
     },
     "output_type": "display_data"
    },
    {
     "name": "stdout",
     "output_type": "stream",
     "text": [
      "Using a threshold of 1.000 guarantees a sensitivity of 0.911 and a specificity of 0.588, i.e. a false positive rate of 41.23%.\n",
      "Runtime of the program is 3.240465756257375\n"
     ]
    }
   ],
   "source": [
    "# starting time\n",
    "start = time.time()\n",
    "from sklearn import tree\n",
    "dt_model = tree.DecisionTreeClassifier(max_depth = None)\n",
    "dt_model = fit_predict_evaluate(dt_model, X_train_pca,loan_data_targets_train,\n",
    "                                X_val_pca, loan_data_targets_validation, df_cv_scores)\n",
    "\n",
    "end = time.time()\n",
    "# total time taken\n",
    "print(f\"Runtime of the program is {(end - start)/60}\")"
   ]
  },
  {
   "cell_type": "markdown",
   "metadata": {},
   "source": [
    "### Logistic Regression"
   ]
  },
  {
   "cell_type": "code",
   "execution_count": 11,
   "metadata": {},
   "outputs": [],
   "source": [
    "lr_model = log_reg = LogisticRegressionCV(\n",
    "        Cs=list(np.power(10.0, np.arange(-10, 10)))\n",
    "        ,penalty='l2'\n",
    "        ,scoring='roc_auc'\n",
    "        ,cv=5\n",
    "        ,random_state=777\n",
    "        ,max_iter=10000\n",
    "        ,fit_intercept=True\n",
    "        ,solver='newton-cg'\n",
    "        ,tol=10\n",
    "    )"
   ]
  },
  {
   "cell_type": "code",
   "execution_count": 12,
   "metadata": {
    "scrolled": true
   },
   "outputs": [
    {
     "name": "stdout",
     "output_type": "stream",
     "text": [
      "LogisticRegressionCV:\n",
      "Accuracy score on training set is 69.96%\n"
     ]
    },
    {
     "name": "stderr",
     "output_type": "stream",
     "text": [
      "C:\\Users\\WIN8\\AppData\\Roaming\\Python\\Python37\\site-packages\\sklearn\\model_selection\\_split.py:297: FutureWarning: Setting a random_state has no effect since shuffle is False. This will raise an error in 0.24. You should leave random_state to its default (None), or set shuffle=True.\n",
      "  FutureWarning\n"
     ]
    },
    {
     "name": "stdout",
     "output_type": "stream",
     "text": [
      "K-fold cross-validation results on validation set:\n",
      " average accuracy is 67.45%\n",
      " average F1 is 66.89%\n",
      " average roc_auc is 73.04%\n"
     ]
    },
    {
     "data": {
      "image/png": "[encoded data removed]",
      "text/plain": [
       "<Figure size 360x360 with 2 Axes>"
      ]
     },
     "metadata": {
      "needs_background": "light"
     },
     "output_type": "display_data"
    },
    {
     "data": {
      "image/png": "[encoded data removed]",
      "text/plain": [
       "<Figure size 432x288 with 1 Axes>"
      ]
     },
     "metadata": {
      "needs_background": "light"
     },
     "output_type": "display_data"
    },
    {
     "name": "stdout",
     "output_type": "stream",
     "text": [
      "Using a threshold of 0.568 guarantees a sensitivity of 0.500 and a specificity of 0.843, i.e. a false positive rate of 15.65%.\n",
      "Runtime of the program is 8.092281572024028\n"
     ]
    }
   ],
   "source": [
    "start = time.time()\n",
    "lr_model = fit_predict_evaluate(lr_model, X_train_pca,np.array(loan_data_targets_train.iloc[:,0]),\n",
    "                                X_val_pca, np.array(loan_data_targets_validation.iloc[:,0]), df_cv_scores)\n",
    "\n",
    "end = time.time()\n",
    "# total time taken\n",
    "print(f\"Runtime of the program is {(end - start)/60}\")"
   ]
  },
  {
   "cell_type": "markdown",
   "metadata": {},
   "source": [
    "### Random Forest "
   ]
  },
  {
   "cell_type": "code",
   "execution_count": 13,
   "metadata": {},
   "outputs": [
    {
     "name": "stdout",
     "output_type": "stream",
     "text": [
      "RandomForestClassifier:\n",
      "Accuracy score on training set is 85.50%\n"
     ]
    },
    {
     "name": "stderr",
     "output_type": "stream",
     "text": [
      "C:\\Users\\WIN8\\AppData\\Roaming\\Python\\Python37\\site-packages\\sklearn\\model_selection\\_split.py:297: FutureWarning: Setting a random_state has no effect since shuffle is False. This will raise an error in 0.24. You should leave random_state to its default (None), or set shuffle=True.\n",
      "  FutureWarning\n"
     ]
    },
    {
     "name": "stdout",
     "output_type": "stream",
     "text": [
      "K-fold cross-validation results on validation set:\n",
      " average accuracy is 90.88%\n",
      " average F1 is 90.20%\n",
      " average roc_auc is 96.91%\n"
     ]
    },
    {
     "data": {
      "image/png": "[encoded data removed]",
      "text/plain": [
       "<Figure size 360x360 with 2 Axes>"
      ]
     },
     "metadata": {
      "needs_background": "light"
     },
     "output_type": "display_data"
    },
    {
     "data": {
      "image/png": "[encoded data removed]",
      "text/plain": [
       "<Figure size 432x288 with 1 Axes>"
      ]
     },
     "metadata": {
      "needs_background": "light"
     },
     "output_type": "display_data"
    },
    {
     "name": "stdout",
     "output_type": "stream",
     "text": [
      "Using a threshold of 0.710 guarantees a sensitivity of 0.500 and a specificity of 0.972, i.e. a false positive rate of 2.81%.\n",
      "Runtime of the program is 26.875237361590067\n"
     ]
    }
   ],
   "source": [
    "start = time.time()\n",
    "randomf_optim = RandomForestClassifier(n_estimators=200, max_depth=20)\n",
    "randomf_optim = fit_predict_evaluate(randomf_optim,inputs_train,np.array(loan_data_targets_train.iloc[:,0]),\n",
    "                                     inputs_validation, np.array(loan_data_targets_validation.iloc[:,0]), df_cv_scores)\n",
    "\n",
    "end = time.time()\n",
    "# total time taken\n",
    "print(f\"Runtime of the program is {(end - start)/60}\")"
   ]
  },
  {
   "cell_type": "markdown",
   "metadata": {},
   "source": [
    "### Boosting"
   ]
  },
  {
   "cell_type": "code",
   "execution_count": 14,
   "metadata": {},
   "outputs": [
    {
     "name": "stdout",
     "output_type": "stream",
     "text": [
      "AdaBoostClassifier:\n",
      "Accuracy score on training set is 85.26%\n"
     ]
    },
    {
     "name": "stderr",
     "output_type": "stream",
     "text": [
      "C:\\Users\\WIN8\\AppData\\Roaming\\Python\\Python37\\site-packages\\sklearn\\model_selection\\_split.py:297: FutureWarning: Setting a random_state has no effect since shuffle is False. This will raise an error in 0.24. You should leave random_state to its default (None), or set shuffle=True.\n",
      "  FutureWarning\n"
     ]
    },
    {
     "name": "stdout",
     "output_type": "stream",
     "text": [
      "K-fold cross-validation results on validation set:\n",
      " average accuracy is 92.17%\n",
      " average F1 is 91.87%\n",
      " average roc_auc is 97.52%\n"
     ]
    },
    {
     "data": {
      "image/png": "[encoded data removed]",
      "text/plain": [
       "<Figure size 360x360 with 2 Axes>"
      ]
     },
     "metadata": {
      "needs_background": "light"
     },
     "output_type": "display_data"
    },
    {
     "data": {
      "image/png": "[encoded data removed]",
      "text/plain": [
       "<Figure size 432x288 with 1 Axes>"
      ]
     },
     "metadata": {
      "needs_background": "light"
     },
     "output_type": "display_data"
    },
    {
     "name": "stdout",
     "output_type": "stream",
     "text": [
      "Using a threshold of 0.572 guarantees a sensitivity of 0.500 and a specificity of 0.973, i.e. a false positive rate of 2.67%.\n",
      "Runtime of the program is 25.875744450092316\n"
     ]
    }
   ],
   "source": [
    "start = time.time()\n",
    "ab_model = AdaBoostClassifier(base_estimator=tree.DecisionTreeClassifier(max_depth=7), n_estimators=60, learning_rate=0.05)\n",
    "ab_model = fit_predict_evaluate(ab_model, inputs_train,np.array(loan_data_targets_train.iloc[:,0]),\n",
    "                                inputs_validation, np.array(loan_data_targets_validation.iloc[:,0]), df_cv_scores)\n",
    "\n",
    "end = time.time()\n",
    "# total time taken\n",
    "print(f\"Runtime of the program is {(end - start)/60}\")"
   ]
  },
  {
   "cell_type": "code",
   "execution_count": 15,
   "metadata": {},
   "outputs": [
    {
     "data": {
      "image/png": "[encoded data removed]",
      "text/plain": [
       "<Figure size 1440x360 with 2 Axes>"
      ]
     },
     "metadata": {
      "needs_background": "light"
     },
     "output_type": "display_data"
    }
   ],
   "source": [
    "fig, ax = plt.subplots(1,2,figsize=(20,5))\n",
    "train_scores = list(ab_model.staged_score(inputs_train,loan_data_targets_train))\n",
    "test_scores = list(ab_model.staged_score(inputs_validation, loan_data_targets_validation))\n",
    "ax[0].plot(train_scores,label='depth-{}'.format(7))\n",
    "ax[1].plot(test_scores,label='depth-{}'.format(7))\n",
    "ax[0].set_xlabel('number of iterations', fontsize=12)\n",
    "ax[1].set_xlabel('number of iterations', fontsize=12)\n",
    "ax[0].set_ylabel('Accuracy', fontsize=12)\n",
    "ax[0].set_title(\"Variation of Accuracy with Iterations (training set)\", fontsize=14)\n",
    "ax[1].set_title(\"Variation of Accuracy with Iterations (validation set)\", fontsize=14)\n",
    "ax[0].legend(fontsize=12);\n",
    "ax[1].legend(fontsize=12);    "
   ]
  },
  {
   "cell_type": "markdown",
   "metadata": {},
   "source": [
    "### Loan Description"
   ]
  },
  {
   "cell_type": "markdown",
   "metadata": {},
   "source": [
    "Additionally to using quantified predictors, we were curious to see if text would give us some predictive power.\n",
    "\n",
    "Some studies suggest that words used on loan applications can predict the likelihood of charge-off. In this section we use natural language processing algorithms to extract features from the loan title and description filled in by the borrower when requesting the loan. We then use a Naive Bayes classifier for the classification task.\n",
    "\n",
    "The function below performs the following preprocessing on the text data:\n",
    "\n",
    "lower case,\n",
    "remove punctuation,\n",
    "remove commonly occuring words using predefined libraries,\n",
    "remove suffices, like “ing”, “ly”, “s”, etc. by a simple rule-based approach.\n",
    "correct spelling"
   ]
  },
  {
   "cell_type": "code",
   "execution_count": 16,
   "metadata": {},
   "outputs": [],
   "source": [
    "def clean_text(text):\n",
    "    # lower case\n",
    "    text = text.apply(lambda x: \" \".join(x.lower() for x in x.split()))\n",
    "    # remove punctuation\n",
    "    text = text.str.replace('[^\\w\\s]','') \n",
    "    # remove stop words    \n",
    "    stop = stopwords.words('english')\n",
    "    text = text.apply(lambda x: \" \".join(x for x in x.split() if x not in stop))\n",
    "    # correct spelling\n",
    "    from textblob import TextBlob\n",
    "    text = text.apply(lambda x: str(TextBlob(x).correct()))\n",
    "    # lemmatization     \n",
    "    text = text.apply(lambda x: \" \".join([Word(word).lemmatize() for word in x.split()]))\n",
    "    return text"
   ]
  },
  {
   "cell_type": "code",
   "execution_count": 20,
   "metadata": {},
   "outputs": [
    {
     "name": "stderr",
     "output_type": "stream",
     "text": [
      "C:\\ProgramData\\Anaconda3\\lib\\site-packages\\IPython\\core\\interactiveshell.py:3058: DtypeWarning: Columns (20) have mixed types.Specify dtype option on import or set low_memory=False.\n",
      "  interactivity=interactivity, compiler=compiler, result=result)\n",
      "C:\\Users\\WIN8\\AppData\\Roaming\\Python\\Python37\\site-packages\\pandas\\core\\frame.py:4320: SettingWithCopyWarning: \n",
      "A value is trying to be set on a copy of a slice from a DataFrame\n",
      "\n",
      "See the caveats in the documentation: https://pandas.pydata.org/pandas-docs/stable/user_guide/indexing.html#returning-a-view-versus-a-copy\n",
      "  downcast=downcast,\n",
      "C:\\ProgramData\\Anaconda3\\lib\\site-packages\\ipykernel_launcher.py:5: SettingWithCopyWarning: \n",
      "A value is trying to be set on a copy of a slice from a DataFrame.\n",
      "Try using .loc[row_indexer,col_indexer] = value instead\n",
      "\n",
      "See the caveats in the documentation: https://pandas.pydata.org/pandas-docs/stable/user_guide/indexing.html#returning-a-view-versus-a-copy\n",
      "  \"\"\"\n",
      "C:\\ProgramData\\Anaconda3\\lib\\site-packages\\ipykernel_launcher.py:10: SettingWithCopyWarning: \n",
      "A value is trying to be set on a copy of a slice from a DataFrame.\n",
      "Try using .loc[row_indexer,col_indexer] = value instead\n",
      "\n",
      "See the caveats in the documentation: https://pandas.pydata.org/pandas-docs/stable/user_guide/indexing.html#returning-a-view-versus-a-copy\n",
      "  # Remove the CWD from sys.path while we load stuff.\n"
     ]
    }
   ],
   "source": [
    "# Data preparation\n",
    "df= pd.read_csv(r'C:\\Users\\WIN8\\Desktop\\PGDS 2020\\Datasets\\Credit Risk Analysis\\Lending Club Data Kaggle\\loan_data_2007_2014.csv')\n",
    "df_desc = df[['title', 'desc', 'loan_status']]\n",
    "df_desc.fillna('N/A', inplace=True)\n",
    "df_desc['desc'] = df_desc['desc'] + ' - ' + df_desc['title']\n",
    "\n",
    "# Creating a binary variable for loan status\n",
    "df_desc['loan_status'] = np.where(df['loan_status'].isin(['Charged Off ', 'Late (31-120 days)',\n",
    "                                                               'Does not meet the credit policy. Status:Charged Off',\n",
    "                                                               'Late (31-120 days)', 'Default']), 0, 1)"
   ]
  },
  {
   "cell_type": "markdown",
   "metadata": {},
   "source": [
    "We use the merged loan title and description as feature, the response variable is the loan status."
   ]
  },
  {
   "cell_type": "code",
   "execution_count": 54,
   "metadata": {},
   "outputs": [],
   "source": [
    "from sklearn.model_selection import train_test_split\n",
    "from sklearn.utils import resample\n",
    "X_desc = df_desc.title\n",
    "y_desc = df_desc.loan_status\n",
    "X_train_desc, X_test_desc, y_train_desc, y_test_desc = train_test_split(X_desc, y_desc, test_size=0.2, stratify=y_desc)\n",
    "X_train_desc, X_val_desc, y_train_desc, y_val_desc = train_test_split(X_train_desc, y_train_desc, test_size=0.2, stratify=y_train_desc)\n",
    "\n",
    "X_train_desc, y_train_desc = resample(X_train_desc, y_train_desc, n_samples=round(loan_data_targets_train.shape[0]))\n",
    "X_val_desc, y_val_desc = resample(X_val_desc, y_val_desc, n_samples=round(loan_data_targets_validation.shape[0]))\n",
    "X_test_desc, y_test_desc = resample(X_test_desc, y_test_desc, n_samples=round(loan_data_targets_test.shape[0]))\n",
    "\n"
   ]
  },
  {
   "cell_type": "markdown",
   "metadata": {},
   "source": [
    "We extract TF-IDF features. TF-IDF is the multiplication of the TF and IDF. The IDF of each word is the log of the ratio of the total number of rows to the number of rows in which that word is present. TF or term frequency is the ratio of the count of a word present in a sentence, to the length of the sentence."
   ]
  },
  {
   "cell_type": "code",
   "execution_count": 55,
   "metadata": {},
   "outputs": [
    {
     "name": "stdout",
     "output_type": "stream",
     "text": [
      "Our training data has 585974 loans, each with 10412 text features.\n"
     ]
    }
   ],
   "source": [
    "from sklearn.feature_extraction.text import TfidfVectorizer\n",
    "word_vectorizer = TfidfVectorizer(\n",
    "    stop_words='english',\n",
    "    sublinear_tf=True,\n",
    "    strip_accents='unicode',\n",
    "    analyzer='word',\n",
    "    token_pattern=r'\\w{2,}', \n",
    "    ngram_range=(1, 1),\n",
    "    max_features=30000)\n",
    "\n",
    "word_vectorizer.fit(X_train_desc)\n",
    "X_train_desc_features = word_vectorizer.transform(X_train_desc)\n",
    "\n",
    "#transform the val and test features to sparse matrix\n",
    "X_val_desc_features = word_vectorizer.transform(X_val_desc)\n",
    "X_test_desc_features = word_vectorizer.transform(X_test_desc)\n",
    "\n",
    "print(\"Our training data has {} loans, each with {} text features.\".format(X_train_desc_features.shape[0], \n",
    "                                                                           X_train_desc_features.shape[1]))"
   ]
  },
  {
   "cell_type": "markdown",
   "metadata": {},
   "source": [
    "### Naive Bayes"
   ]
  },
  {
   "cell_type": "code",
   "execution_count": 50,
   "metadata": {},
   "outputs": [
    {
     "name": "stdout",
     "output_type": "stream",
     "text": [
      "MultinomialNB:\n",
      "Accuracy score on training set is 98.16%\n"
     ]
    },
    {
     "name": "stderr",
     "output_type": "stream",
     "text": [
      "C:\\Users\\WIN8\\AppData\\Roaming\\Python\\Python37\\site-packages\\sklearn\\model_selection\\_split.py:297: FutureWarning: Setting a random_state has no effect since shuffle is False. This will raise an error in 0.24. You should leave random_state to its default (None), or set shuffle=True.\n",
      "  FutureWarning\n"
     ]
    },
    {
     "name": "stdout",
     "output_type": "stream",
     "text": [
      "K-fold cross-validation results on validation set:\n",
      " average accuracy is 98.18%\n",
      " average F1 is 99.08%\n",
      " average roc_auc is 50.61%\n"
     ]
    },
    {
     "ename": "ValueError",
     "evalue": "Length of values (74606) does not match length of index (146494)",
     "output_type": "error",
     "traceback": [
      "\u001b[1;31m---------------------------------------------------------------------------\u001b[0m",
      "\u001b[1;31mValueError\u001b[0m                                Traceback (most recent call last)",
      "\u001b[1;32m<ipython-input-50-d27ef7d541d1>\u001b[0m in \u001b[0;36m<module>\u001b[1;34m\u001b[0m\n\u001b[0;32m      4\u001b[0m \u001b[1;33m\u001b[0m\u001b[0m\n\u001b[0;32m      5\u001b[0m nb_model = fit_predict_evaluate(nb_model, X_train_desc_features, y_train_desc, X_val_desc_features,\n\u001b[1;32m----> 6\u001b[1;33m                                 y_val_desc, df_cv_scores)\n\u001b[0m",
      "\u001b[1;32m<ipython-input-4-fade2ebc1d41>\u001b[0m in \u001b[0;36mfit_predict_evaluate\u001b[1;34m(model, Xtrain, ytrain, Xval, yval, df_cv_scores)\u001b[0m\n\u001b[0;32m     94\u001b[0m     \u001b[0mprint\u001b[0m\u001b[1;33m(\u001b[0m\u001b[1;34m'Accuracy score on training set is {0:0.2%}'\u001b[0m\u001b[1;33m.\u001b[0m\u001b[0mformat\u001b[0m\u001b[1;33m(\u001b[0m\u001b[0mmodel\u001b[0m\u001b[1;33m.\u001b[0m\u001b[0mscore\u001b[0m\u001b[1;33m(\u001b[0m\u001b[0mXtrain\u001b[0m\u001b[1;33m,\u001b[0m \u001b[0mytrain\u001b[0m\u001b[1;33m)\u001b[0m\u001b[1;33m)\u001b[0m\u001b[1;33m)\u001b[0m\u001b[1;33m\u001b[0m\u001b[1;33m\u001b[0m\u001b[0m\n\u001b[0;32m     95\u001b[0m     \u001b[0mpredict_evaluate_cv\u001b[0m\u001b[1;33m(\u001b[0m\u001b[0mmodel\u001b[0m\u001b[1;33m,\u001b[0m \u001b[0mXval\u001b[0m\u001b[1;33m,\u001b[0m \u001b[0myval\u001b[0m\u001b[1;33m,\u001b[0m \u001b[0mdf_cv_scores\u001b[0m\u001b[1;33m)\u001b[0m\u001b[1;33m\u001b[0m\u001b[1;33m\u001b[0m\u001b[0m\n\u001b[1;32m---> 96\u001b[1;33m     \u001b[0mpredict_evaluate_cm\u001b[0m\u001b[1;33m(\u001b[0m\u001b[0mmodel\u001b[0m\u001b[1;33m,\u001b[0m \u001b[0mXval\u001b[0m\u001b[1;33m,\u001b[0m \u001b[0myval\u001b[0m\u001b[1;33m)\u001b[0m\u001b[1;33m\u001b[0m\u001b[1;33m\u001b[0m\u001b[0m\n\u001b[0m\u001b[0;32m     97\u001b[0m     \u001b[0mpredict_evaluate_roc\u001b[0m\u001b[1;33m(\u001b[0m\u001b[0mmodel\u001b[0m\u001b[1;33m,\u001b[0m \u001b[0mXval\u001b[0m\u001b[1;33m,\u001b[0m \u001b[0myval\u001b[0m\u001b[1;33m)\u001b[0m\u001b[1;33m\u001b[0m\u001b[1;33m\u001b[0m\u001b[0m\n\u001b[0;32m     98\u001b[0m     \u001b[1;32mreturn\u001b[0m \u001b[0mmodel\u001b[0m\u001b[1;33m\u001b[0m\u001b[1;33m\u001b[0m\u001b[0m\n",
      "\u001b[1;32m<ipython-input-4-fade2ebc1d41>\u001b[0m in \u001b[0;36mpredict_evaluate_cm\u001b[1;34m(model, X, y, threshold)\u001b[0m\n\u001b[0;32m     32\u001b[0m     \u001b[1;32melse\u001b[0m\u001b[1;33m:\u001b[0m\u001b[1;33m\u001b[0m\u001b[1;33m\u001b[0m\u001b[0m\n\u001b[0;32m     33\u001b[0m         \u001b[0my_pred_proba\u001b[0m \u001b[1;33m=\u001b[0m \u001b[0mmodel\u001b[0m\u001b[1;33m.\u001b[0m\u001b[0mpredict_proba\u001b[0m\u001b[1;33m(\u001b[0m\u001b[0mX\u001b[0m\u001b[1;33m)\u001b[0m\u001b[1;33m[\u001b[0m\u001b[1;33m:\u001b[0m\u001b[1;33m,\u001b[0m \u001b[1;36m1\u001b[0m\u001b[1;33m]\u001b[0m\u001b[1;33m\u001b[0m\u001b[1;33m\u001b[0m\u001b[0m\n\u001b[1;32m---> 34\u001b[1;33m     \u001b[0mdf_y_pred_probas\u001b[0m\u001b[1;33m[\u001b[0m\u001b[0mmodel_name\u001b[0m\u001b[1;33m]\u001b[0m \u001b[1;33m=\u001b[0m \u001b[0my_pred_proba\u001b[0m\u001b[1;33m\u001b[0m\u001b[1;33m\u001b[0m\u001b[0m\n\u001b[0m\u001b[0;32m     35\u001b[0m     \u001b[0my_pred\u001b[0m \u001b[1;33m=\u001b[0m \u001b[0madjust_proba\u001b[0m\u001b[1;33m(\u001b[0m\u001b[0my_pred_proba\u001b[0m\u001b[1;33m,\u001b[0m \u001b[0mthreshold\u001b[0m\u001b[1;33m)\u001b[0m\u001b[1;33m\u001b[0m\u001b[1;33m\u001b[0m\u001b[0m\n\u001b[0;32m     36\u001b[0m     \u001b[0mcm\u001b[0m \u001b[1;33m=\u001b[0m \u001b[0mconfusion_matrix\u001b[0m\u001b[1;33m(\u001b[0m\u001b[0my_true\u001b[0m\u001b[1;33m,\u001b[0m \u001b[0my_pred\u001b[0m\u001b[1;33m)\u001b[0m\u001b[1;33m\u001b[0m\u001b[1;33m\u001b[0m\u001b[0m\n",
      "\u001b[1;32m~\\AppData\\Roaming\\Python\\Python37\\site-packages\\pandas\\core\\frame.py\u001b[0m in \u001b[0;36m__setitem__\u001b[1;34m(self, key, value)\u001b[0m\n\u001b[0;32m   3038\u001b[0m         \u001b[1;32melse\u001b[0m\u001b[1;33m:\u001b[0m\u001b[1;33m\u001b[0m\u001b[1;33m\u001b[0m\u001b[0m\n\u001b[0;32m   3039\u001b[0m             \u001b[1;31m# set column\u001b[0m\u001b[1;33m\u001b[0m\u001b[1;33m\u001b[0m\u001b[1;33m\u001b[0m\u001b[0m\n\u001b[1;32m-> 3040\u001b[1;33m             \u001b[0mself\u001b[0m\u001b[1;33m.\u001b[0m\u001b[0m_set_item\u001b[0m\u001b[1;33m(\u001b[0m\u001b[0mkey\u001b[0m\u001b[1;33m,\u001b[0m \u001b[0mvalue\u001b[0m\u001b[1;33m)\u001b[0m\u001b[1;33m\u001b[0m\u001b[1;33m\u001b[0m\u001b[0m\n\u001b[0m\u001b[0;32m   3041\u001b[0m \u001b[1;33m\u001b[0m\u001b[0m\n\u001b[0;32m   3042\u001b[0m     \u001b[1;32mdef\u001b[0m \u001b[0m_setitem_slice\u001b[0m\u001b[1;33m(\u001b[0m\u001b[0mself\u001b[0m\u001b[1;33m,\u001b[0m \u001b[0mkey\u001b[0m\u001b[1;33m:\u001b[0m \u001b[0mslice\u001b[0m\u001b[1;33m,\u001b[0m \u001b[0mvalue\u001b[0m\u001b[1;33m)\u001b[0m\u001b[1;33m:\u001b[0m\u001b[1;33m\u001b[0m\u001b[1;33m\u001b[0m\u001b[0m\n",
      "\u001b[1;32m~\\AppData\\Roaming\\Python\\Python37\\site-packages\\pandas\\core\\frame.py\u001b[0m in \u001b[0;36m_set_item\u001b[1;34m(self, key, value)\u001b[0m\n\u001b[0;32m   3114\u001b[0m         \"\"\"\n\u001b[0;32m   3115\u001b[0m         \u001b[0mself\u001b[0m\u001b[1;33m.\u001b[0m\u001b[0m_ensure_valid_index\u001b[0m\u001b[1;33m(\u001b[0m\u001b[0mvalue\u001b[0m\u001b[1;33m)\u001b[0m\u001b[1;33m\u001b[0m\u001b[1;33m\u001b[0m\u001b[0m\n\u001b[1;32m-> 3116\u001b[1;33m         \u001b[0mvalue\u001b[0m \u001b[1;33m=\u001b[0m \u001b[0mself\u001b[0m\u001b[1;33m.\u001b[0m\u001b[0m_sanitize_column\u001b[0m\u001b[1;33m(\u001b[0m\u001b[0mkey\u001b[0m\u001b[1;33m,\u001b[0m \u001b[0mvalue\u001b[0m\u001b[1;33m)\u001b[0m\u001b[1;33m\u001b[0m\u001b[1;33m\u001b[0m\u001b[0m\n\u001b[0m\u001b[0;32m   3117\u001b[0m         \u001b[0mNDFrame\u001b[0m\u001b[1;33m.\u001b[0m\u001b[0m_set_item\u001b[0m\u001b[1;33m(\u001b[0m\u001b[0mself\u001b[0m\u001b[1;33m,\u001b[0m \u001b[0mkey\u001b[0m\u001b[1;33m,\u001b[0m \u001b[0mvalue\u001b[0m\u001b[1;33m)\u001b[0m\u001b[1;33m\u001b[0m\u001b[1;33m\u001b[0m\u001b[0m\n\u001b[0;32m   3118\u001b[0m \u001b[1;33m\u001b[0m\u001b[0m\n",
      "\u001b[1;32m~\\AppData\\Roaming\\Python\\Python37\\site-packages\\pandas\\core\\frame.py\u001b[0m in \u001b[0;36m_sanitize_column\u001b[1;34m(self, key, value, broadcast)\u001b[0m\n\u001b[0;32m   3759\u001b[0m \u001b[1;33m\u001b[0m\u001b[0m\n\u001b[0;32m   3760\u001b[0m             \u001b[1;31m# turn me into an ndarray\u001b[0m\u001b[1;33m\u001b[0m\u001b[1;33m\u001b[0m\u001b[1;33m\u001b[0m\u001b[0m\n\u001b[1;32m-> 3761\u001b[1;33m             \u001b[0mvalue\u001b[0m \u001b[1;33m=\u001b[0m \u001b[0msanitize_index\u001b[0m\u001b[1;33m(\u001b[0m\u001b[0mvalue\u001b[0m\u001b[1;33m,\u001b[0m \u001b[0mself\u001b[0m\u001b[1;33m.\u001b[0m\u001b[0mindex\u001b[0m\u001b[1;33m)\u001b[0m\u001b[1;33m\u001b[0m\u001b[1;33m\u001b[0m\u001b[0m\n\u001b[0m\u001b[0;32m   3762\u001b[0m             \u001b[1;32mif\u001b[0m \u001b[1;32mnot\u001b[0m \u001b[0misinstance\u001b[0m\u001b[1;33m(\u001b[0m\u001b[0mvalue\u001b[0m\u001b[1;33m,\u001b[0m \u001b[1;33m(\u001b[0m\u001b[0mnp\u001b[0m\u001b[1;33m.\u001b[0m\u001b[0mndarray\u001b[0m\u001b[1;33m,\u001b[0m \u001b[0mIndex\u001b[0m\u001b[1;33m)\u001b[0m\u001b[1;33m)\u001b[0m\u001b[1;33m:\u001b[0m\u001b[1;33m\u001b[0m\u001b[1;33m\u001b[0m\u001b[0m\n\u001b[0;32m   3763\u001b[0m                 \u001b[1;32mif\u001b[0m \u001b[0misinstance\u001b[0m\u001b[1;33m(\u001b[0m\u001b[0mvalue\u001b[0m\u001b[1;33m,\u001b[0m \u001b[0mlist\u001b[0m\u001b[1;33m)\u001b[0m \u001b[1;32mand\u001b[0m \u001b[0mlen\u001b[0m\u001b[1;33m(\u001b[0m\u001b[0mvalue\u001b[0m\u001b[1;33m)\u001b[0m \u001b[1;33m>\u001b[0m \u001b[1;36m0\u001b[0m\u001b[1;33m:\u001b[0m\u001b[1;33m\u001b[0m\u001b[1;33m\u001b[0m\u001b[0m\n",
      "\u001b[1;32m~\\AppData\\Roaming\\Python\\Python37\\site-packages\\pandas\\core\\internals\\construction.py\u001b[0m in \u001b[0;36msanitize_index\u001b[1;34m(data, index)\u001b[0m\n\u001b[0;32m    746\u001b[0m     \u001b[1;32mif\u001b[0m \u001b[0mlen\u001b[0m\u001b[1;33m(\u001b[0m\u001b[0mdata\u001b[0m\u001b[1;33m)\u001b[0m \u001b[1;33m!=\u001b[0m \u001b[0mlen\u001b[0m\u001b[1;33m(\u001b[0m\u001b[0mindex\u001b[0m\u001b[1;33m)\u001b[0m\u001b[1;33m:\u001b[0m\u001b[1;33m\u001b[0m\u001b[1;33m\u001b[0m\u001b[0m\n\u001b[0;32m    747\u001b[0m         raise ValueError(\n\u001b[1;32m--> 748\u001b[1;33m             \u001b[1;34m\"Length of values \"\u001b[0m\u001b[1;33m\u001b[0m\u001b[1;33m\u001b[0m\u001b[0m\n\u001b[0m\u001b[0;32m    749\u001b[0m             \u001b[1;34mf\"({len(data)}) \"\u001b[0m\u001b[1;33m\u001b[0m\u001b[1;33m\u001b[0m\u001b[0m\n\u001b[0;32m    750\u001b[0m             \u001b[1;34m\"does not match length of index \"\u001b[0m\u001b[1;33m\u001b[0m\u001b[1;33m\u001b[0m\u001b[0m\n",
      "\u001b[1;31mValueError\u001b[0m: Length of values (74606) does not match length of index (146494)"
     ]
    }
   ],
   "source": [
    "from sklearn.naive_bayes import MultinomialNB\n",
    "# Applying Naive Bayes on the descriptions.\n",
    "nb_model = MultinomialNB()\n",
    "\n",
    "nb_model = fit_predict_evaluate(nb_model, X_train_desc_features, y_train_desc, X_val_desc_features,\n",
    "                                y_val_desc, df_cv_scores)"
   ]
  },
  {
   "cell_type": "markdown",
   "metadata": {},
   "source": [
    "Our Naive Bayes did not find enough information that would clearly distinguish the two classes of loans.\n",
    "\n",
    "However the ROC-AUC score was above 50%, this was a suprise for us. The F1 score and classification accuracy was more than average. We see this as a sign that the text data contains a sort of signal that if properly preprocessed, would contribute in a loan classification problem."
   ]
  },
  {
   "cell_type": "markdown",
   "metadata": {},
   "source": [
    "## Model Selection"
   ]
  },
  {
   "cell_type": "markdown",
   "metadata": {},
   "source": [
    "### Scoring Benchmark"
   ]
  },
  {
   "cell_type": "markdown",
   "metadata": {},
   "source": [
    "All models investigated in this project are compared in the table below. The performance was evaluated in a out-of-sample manner on the validation set using 3-folds cross-validation.\n",
    "\n",
    "For each model, we can compare different metrics (accuracy, F1, ROC_AUC). We are also able to compare models using the metric ROC_AUC, which reflect their performance when we set probability cutoff at 50%."
   ]
  },
  {
   "cell_type": "code",
   "execution_count": 56,
   "metadata": {},
   "outputs": [
    {
     "data": {
      "text/html": [
       "<div>\n",
       "<style scoped>\n",
       "    .dataframe tbody tr th:only-of-type {\n",
       "        vertical-align: middle;\n",
       "    }\n",
       "\n",
       "    .dataframe tbody tr th {\n",
       "        vertical-align: top;\n",
       "    }\n",
       "\n",
       "    .dataframe thead th {\n",
       "        text-align: right;\n",
       "    }\n",
       "</style>\n",
       "<table border=\"1\" class=\"dataframe\">\n",
       "  <thead>\n",
       "    <tr style=\"text-align: right;\">\n",
       "      <th></th>\n",
       "      <th>model</th>\n",
       "      <th>accuracy</th>\n",
       "      <th>f1</th>\n",
       "      <th>roc_auc</th>\n",
       "    </tr>\n",
       "  </thead>\n",
       "  <tbody>\n",
       "    <tr>\n",
       "      <th>0</th>\n",
       "      <td>AdaBoostClassifier</td>\n",
       "      <td>0.921731</td>\n",
       "      <td>0.918750</td>\n",
       "      <td>0.975221</td>\n",
       "    </tr>\n",
       "    <tr>\n",
       "      <th>1</th>\n",
       "      <td>RandomForestClassifier</td>\n",
       "      <td>0.908822</td>\n",
       "      <td>0.902034</td>\n",
       "      <td>0.969094</td>\n",
       "    </tr>\n",
       "    <tr>\n",
       "      <th>2</th>\n",
       "      <td>DecisionTreeClassifier</td>\n",
       "      <td>0.958428</td>\n",
       "      <td>0.957097</td>\n",
       "      <td>0.961315</td>\n",
       "    </tr>\n",
       "    <tr>\n",
       "      <th>3</th>\n",
       "      <td>LogisticRegressionCV</td>\n",
       "      <td>0.674499</td>\n",
       "      <td>0.668891</td>\n",
       "      <td>0.730360</td>\n",
       "    </tr>\n",
       "    <tr>\n",
       "      <th>4</th>\n",
       "      <td>MultinomialNB</td>\n",
       "      <td>0.981784</td>\n",
       "      <td>0.990808</td>\n",
       "      <td>0.506057</td>\n",
       "    </tr>\n",
       "  </tbody>\n",
       "</table>\n",
       "</div>"
      ],
      "text/plain": [
       "                    model  accuracy        f1   roc_auc\n",
       "0      AdaBoostClassifier  0.921731  0.918750  0.975221\n",
       "1  RandomForestClassifier  0.908822  0.902034  0.969094\n",
       "2  DecisionTreeClassifier  0.958428  0.957097  0.961315\n",
       "3    LogisticRegressionCV  0.674499  0.668891  0.730360\n",
       "4           MultinomialNB  0.981784  0.990808  0.506057"
      ]
     },
     "execution_count": 56,
     "metadata": {},
     "output_type": "execute_result"
    }
   ],
   "source": [
    "df_cv_scores_report = df_cv_scores.copy()\n",
    "df_cv_scores_report.drop('model', inplace=True, errors='ignore')\n",
    "df_cv_scores_report.sort_values(by=['roc_auc'], ascending=False, inplace=True)\n",
    "df_cv_scores_report.reset_index(inplace=True)\n",
    "df_cv_scores_report.rename(columns={'index':'model'}, inplace=True)\n",
    "df_cv_scores_report"
   ]
  },
  {
   "cell_type": "code",
   "execution_count": 58,
   "metadata": {},
   "outputs": [
    {
     "data": {
      "image/png": "[encoded data removed]",
      "text/plain": [
       "<Figure size 1800x360 with 1 Axes>"
      ]
     },
     "metadata": {
      "needs_background": "light"
     },
     "output_type": "display_data"
    }
   ],
   "source": [
    "import seaborn as sns\n",
    "df_cv_scores_melt = pd.melt(df_cv_scores_report, id_vars=['model'], var_name='metric', value_name='score')\n",
    "fig, ax = plt.subplots(1,1,figsize=(25,5))\n",
    "sns.set(style=\"whitegrid\")\n",
    "sns.barplot(x=\"model\", y=\"score\", hue=\"metric\", data=df_cv_scores_melt, palette=\"muted\", ax=ax)\n",
    "ax.set_title(\"Models Benchmark via Cross-Validation on Validation set\")\n",
    "ax.set_ylabel(\"Score\");"
   ]
  },
  {
   "cell_type": "markdown",
   "metadata": {},
   "source": [
    "We found that ADA Boost gives us the best results. But we need the coefficients of the model for interpretability."
   ]
  },
  {
   "cell_type": "markdown",
   "metadata": {},
   "source": [
    "### Building a Logistic Regression Model with P-values"
   ]
  },
  {
   "cell_type": "markdown",
   "metadata": {},
   "source": [
    "We will select only those independent variables for our final model that help us to predict the default. We will now compute the p-values to check the statistical significance of the coefficents. The sklearn methods of calculating p-values are univariate, i.e. they take into account the impact of each feature on the outcome. In a regression model the impact of all the features is collective, rather than independent. Thus we will calculate the multivariate p-values. We can achieve this by altering the fit method of the sklearn library."
   ]
  },
  {
   "cell_type": "code",
   "execution_count": 173,
   "metadata": {},
   "outputs": [],
   "source": [
    "from sklearn import linear_model\n",
    "import scipy.stats as stat\n",
    "\n",
    "class LogisticRegression_with_p_values:\n",
    "    \n",
    "    def __init__(self, *args, **kwargs):\n",
    "        self.model = linear_model.LogisticRegression(*args,**kwargs)\n",
    "        \n",
    "    def fit(self, X, y):\n",
    "        self.model.fit(X,y)\n",
    "        denom = (2.0 * (1.0 + np.cosh(self.model.decision_function(X))))\n",
    "        denom = np.tile(denom,(X.shape[1],1)).T\n",
    "        F_ij = np.dot((X/denom).T,X)\n",
    "        Cramer_Rao = np.linalg.inv(F_ij)\n",
    "        sigma_estimates = np.sqrt(np.diagonal(Cramer_Rao))\n",
    "        z_scores = self.model.coef_[0] / sigma_estimates\n",
    "        p_values = [stat.norm.sf(abs(x)) * 2 for x in z_scores]\n",
    "        self.coef_ = self.model.coef_\n",
    "        self.intercept_ = self.model.intercept_\n",
    "        self.p_values = p_values\n",
    "        "
   ]
  },
  {
   "cell_type": "code",
   "execution_count": 174,
   "metadata": {},
   "outputs": [
    {
     "name": "stderr",
     "output_type": "stream",
     "text": [
      "C:\\Users\\WIN8\\AppData\\Roaming\\Python\\Python37\\site-packages\\sklearn\\linear_model\\_logistic.py:764: ConvergenceWarning: lbfgs failed to converge (status=1):\n",
      "STOP: TOTAL NO. of ITERATIONS REACHED LIMIT.\n",
      "\n",
      "Increase the number of iterations (max_iter) or scale the data as shown in:\n",
      "    https://scikit-learn.org/stable/modules/preprocessing.html\n",
      "Please also refer to the documentation for alternative solver options:\n",
      "    https://scikit-learn.org/stable/modules/linear_model.html#logistic-regression\n",
      "  extra_warning_msg=_LOGISTIC_SOLVER_CONVERGENCE_MSG)\n"
     ]
    }
   ],
   "source": [
    "reg2 = LogisticRegression_with_p_values()\n",
    "reg2.fit(inputs_train, np.array(loan_data_targets_train.iloc[:,0]))\n",
    "# Formatting the results\n",
    "feature_name = inputs_train.columns.values"
   ]
  },
  {
   "cell_type": "code",
   "execution_count": 239,
   "metadata": {},
   "outputs": [
    {
     "data": {
      "text/html": [
       "<div>\n",
       "<style scoped>\n",
       "    .dataframe tbody tr th:only-of-type {\n",
       "        vertical-align: middle;\n",
       "    }\n",
       "\n",
       "    .dataframe tbody tr th {\n",
       "        vertical-align: top;\n",
       "    }\n",
       "\n",
       "    .dataframe thead th {\n",
       "        text-align: right;\n",
       "    }\n",
       "</style>\n",
       "<table border=\"1\" class=\"dataframe\">\n",
       "  <thead>\n",
       "    <tr style=\"text-align: right;\">\n",
       "      <th></th>\n",
       "      <th>Feature name</th>\n",
       "      <th>Coefficients</th>\n",
       "    </tr>\n",
       "  </thead>\n",
       "  <tbody>\n",
       "    <tr>\n",
       "      <th>0</th>\n",
       "      <td>Intercept</td>\n",
       "      <td>-7.994189</td>\n",
       "    </tr>\n",
       "    <tr>\n",
       "      <th>1</th>\n",
       "      <td>home_ownership:MORTGAGE</td>\n",
       "      <td>0.136318</td>\n",
       "    </tr>\n",
       "    <tr>\n",
       "      <th>2</th>\n",
       "      <td>addr_state:AK_DC_KS_WY_ID_ME</td>\n",
       "      <td>3.537274</td>\n",
       "    </tr>\n",
       "    <tr>\n",
       "      <th>3</th>\n",
       "      <td>addr_state:SD_OK_MS_MT_NE_IA_ND</td>\n",
       "      <td>2.458554</td>\n",
       "    </tr>\n",
       "    <tr>\n",
       "      <th>4</th>\n",
       "      <td>addr_state:TN_HI_NV</td>\n",
       "      <td>2.058154</td>\n",
       "    </tr>\n",
       "  </tbody>\n",
       "</table>\n",
       "</div>"
      ],
      "text/plain": [
       "                      Feature name  Coefficients\n",
       "0                        Intercept     -7.994189\n",
       "1          home_ownership:MORTGAGE      0.136318\n",
       "2     addr_state:AK_DC_KS_WY_ID_ME      3.537274\n",
       "3  addr_state:SD_OK_MS_MT_NE_IA_ND      2.458554\n",
       "4              addr_state:TN_HI_NV      2.058154"
      ]
     },
     "execution_count": 239,
     "metadata": {},
     "output_type": "execute_result"
    }
   ],
   "source": [
    "summary_table = pd.DataFrame(columns = ['Feature name'], data = feature_name)\n",
    "summary_table['Coefficients'] = np.transpose(reg.coef_)\n",
    "# Adding the coefficients to the first row\n",
    "# Shifting rows by 1 place down\n",
    "summary_table.index = summary_table.index + 1\n",
    "# Filling the first row with the intercept\n",
    "summary_table.loc[0] = ['Intercept', reg.intercept_[0]]\n",
    "# Sorting by index\n",
    "summary_table = summary_table.sort_index()\n",
    "summary_table.head()"
   ]
  },
  {
   "cell_type": "code",
   "execution_count": 240,
   "metadata": {},
   "outputs": [],
   "source": [
    "#  Adding the p-values to the summary_table\n",
    "p_values = reg.p_values"
   ]
  },
  {
   "cell_type": "markdown",
   "metadata": {},
   "source": [
    "Our p_values dont have a p-Value for the Intercept. Lets add a nan value for the intercept under the p-value column."
   ]
  },
  {
   "cell_type": "code",
   "execution_count": 241,
   "metadata": {},
   "outputs": [],
   "source": [
    "p_values = np.append(np.nan, np.array(p_values))"
   ]
  },
  {
   "cell_type": "code",
   "execution_count": 242,
   "metadata": {},
   "outputs": [
    {
     "data": {
      "text/html": [
       "<div>\n",
       "<style scoped>\n",
       "    .dataframe tbody tr th:only-of-type {\n",
       "        vertical-align: middle;\n",
       "    }\n",
       "\n",
       "    .dataframe tbody tr th {\n",
       "        vertical-align: top;\n",
       "    }\n",
       "\n",
       "    .dataframe thead th {\n",
       "        text-align: right;\n",
       "    }\n",
       "</style>\n",
       "<table border=\"1\" class=\"dataframe\">\n",
       "  <thead>\n",
       "    <tr style=\"text-align: right;\">\n",
       "      <th></th>\n",
       "      <th>Feature name</th>\n",
       "      <th>Coefficients</th>\n",
       "      <th>p_values</th>\n",
       "    </tr>\n",
       "  </thead>\n",
       "  <tbody>\n",
       "    <tr>\n",
       "      <th>0</th>\n",
       "      <td>Intercept</td>\n",
       "      <td>-7.994189</td>\n",
       "      <td>NaN</td>\n",
       "    </tr>\n",
       "    <tr>\n",
       "      <th>1</th>\n",
       "      <td>home_ownership:MORTGAGE</td>\n",
       "      <td>0.136318</td>\n",
       "      <td>4.885153e-53</td>\n",
       "    </tr>\n",
       "    <tr>\n",
       "      <th>2</th>\n",
       "      <td>addr_state:AK_DC_KS_WY_ID_ME</td>\n",
       "      <td>3.537274</td>\n",
       "      <td>0.000000e+00</td>\n",
       "    </tr>\n",
       "    <tr>\n",
       "      <th>3</th>\n",
       "      <td>addr_state:SD_OK_MS_MT_NE_IA_ND</td>\n",
       "      <td>2.458554</td>\n",
       "      <td>0.000000e+00</td>\n",
       "    </tr>\n",
       "    <tr>\n",
       "      <th>4</th>\n",
       "      <td>addr_state:TN_HI_NV</td>\n",
       "      <td>2.058154</td>\n",
       "      <td>0.000000e+00</td>\n",
       "    </tr>\n",
       "    <tr>\n",
       "      <th>...</th>\n",
       "      <td>...</td>\n",
       "      <td>...</td>\n",
       "      <td>...</td>\n",
       "    </tr>\n",
       "    <tr>\n",
       "      <th>64</th>\n",
       "      <td>dti:&gt;30</td>\n",
       "      <td>1.352019</td>\n",
       "      <td>0.000000e+00</td>\n",
       "    </tr>\n",
       "    <tr>\n",
       "      <th>65</th>\n",
       "      <td>mths_since_last_record:0-15</td>\n",
       "      <td>-0.789703</td>\n",
       "      <td>1.400191e-71</td>\n",
       "    </tr>\n",
       "    <tr>\n",
       "      <th>66</th>\n",
       "      <td>mths_since_last_record:15-38</td>\n",
       "      <td>0.145100</td>\n",
       "      <td>4.964428e-04</td>\n",
       "    </tr>\n",
       "    <tr>\n",
       "      <th>67</th>\n",
       "      <td>mths_since_last_record:38-72</td>\n",
       "      <td>0.099639</td>\n",
       "      <td>2.424652e-03</td>\n",
       "    </tr>\n",
       "    <tr>\n",
       "      <th>68</th>\n",
       "      <td>mths_since_last_record:&gt;=72</td>\n",
       "      <td>0.890217</td>\n",
       "      <td>0.000000e+00</td>\n",
       "    </tr>\n",
       "  </tbody>\n",
       "</table>\n",
       "<p>69 rows × 3 columns</p>\n",
       "</div>"
      ],
      "text/plain": [
       "                       Feature name  Coefficients      p_values\n",
       "0                         Intercept     -7.994189           NaN\n",
       "1           home_ownership:MORTGAGE      0.136318  4.885153e-53\n",
       "2      addr_state:AK_DC_KS_WY_ID_ME      3.537274  0.000000e+00\n",
       "3   addr_state:SD_OK_MS_MT_NE_IA_ND      2.458554  0.000000e+00\n",
       "4               addr_state:TN_HI_NV      2.058154  0.000000e+00\n",
       "..                              ...           ...           ...\n",
       "64                          dti:>30      1.352019  0.000000e+00\n",
       "65      mths_since_last_record:0-15     -0.789703  1.400191e-71\n",
       "66     mths_since_last_record:15-38      0.145100  4.964428e-04\n",
       "67     mths_since_last_record:38-72      0.099639  2.424652e-03\n",
       "68      mths_since_last_record:>=72      0.890217  0.000000e+00\n",
       "\n",
       "[69 rows x 3 columns]"
      ]
     },
     "execution_count": 242,
     "metadata": {},
     "output_type": "execute_result"
    }
   ],
   "source": [
    "summary_table['p_values'] = p_values\n",
    "summary_table"
   ]
  },
  {
   "cell_type": "markdown",
   "metadata": {},
   "source": [
    "#### Predicting on test"
   ]
  },
  {
   "cell_type": "code",
   "execution_count": 243,
   "metadata": {},
   "outputs": [
    {
     "data": {
      "text/html": [
       "<div>\n",
       "<style scoped>\n",
       "    .dataframe tbody tr th:only-of-type {\n",
       "        vertical-align: middle;\n",
       "    }\n",
       "\n",
       "    .dataframe tbody tr th {\n",
       "        vertical-align: top;\n",
       "    }\n",
       "\n",
       "    .dataframe thead th {\n",
       "        text-align: right;\n",
       "    }\n",
       "</style>\n",
       "<table border=\"1\" class=\"dataframe\">\n",
       "  <thead>\n",
       "    <tr style=\"text-align: right;\">\n",
       "      <th></th>\n",
       "      <th>home_ownership:MORTGAGE</th>\n",
       "      <th>addr_state:AK_DC_KS_WY_ID_ME</th>\n",
       "      <th>addr_state:SD_OK_MS_MT_NE_IA_ND</th>\n",
       "      <th>addr_state:TN_HI_NV</th>\n",
       "      <th>addr_state:AZ_RI_NY</th>\n",
       "      <th>addr_state:VA_LA</th>\n",
       "      <th>addr_state:MD_AL_IN_MO</th>\n",
       "      <th>addr_state:MA_AR</th>\n",
       "      <th>addr_state:MI_DE_WI</th>\n",
       "      <th>addr_state:NC_NM</th>\n",
       "      <th>...</th>\n",
       "      <th>mths_since_last_delinq:54-82</th>\n",
       "      <th>mths_since_last_delinq:&gt;=82</th>\n",
       "      <th>dti:12-18</th>\n",
       "      <th>dti:18-22</th>\n",
       "      <th>dti:22-30</th>\n",
       "      <th>dti:&gt;30</th>\n",
       "      <th>mths_since_last_record:0-15</th>\n",
       "      <th>mths_since_last_record:15-38</th>\n",
       "      <th>mths_since_last_record:38-72</th>\n",
       "      <th>mths_since_last_record:&gt;=72</th>\n",
       "    </tr>\n",
       "  </thead>\n",
       "  <tbody>\n",
       "    <tr>\n",
       "      <th>0</th>\n",
       "      <td>0</td>\n",
       "      <td>0</td>\n",
       "      <td>0</td>\n",
       "      <td>0</td>\n",
       "      <td>0</td>\n",
       "      <td>0</td>\n",
       "      <td>0</td>\n",
       "      <td>0</td>\n",
       "      <td>1</td>\n",
       "      <td>0</td>\n",
       "      <td>...</td>\n",
       "      <td>0</td>\n",
       "      <td>0</td>\n",
       "      <td>1</td>\n",
       "      <td>0</td>\n",
       "      <td>0</td>\n",
       "      <td>0</td>\n",
       "      <td>0</td>\n",
       "      <td>0</td>\n",
       "      <td>0</td>\n",
       "      <td>0</td>\n",
       "    </tr>\n",
       "    <tr>\n",
       "      <th>1</th>\n",
       "      <td>0</td>\n",
       "      <td>0</td>\n",
       "      <td>0</td>\n",
       "      <td>0</td>\n",
       "      <td>0</td>\n",
       "      <td>0</td>\n",
       "      <td>0</td>\n",
       "      <td>0</td>\n",
       "      <td>0</td>\n",
       "      <td>0</td>\n",
       "      <td>...</td>\n",
       "      <td>0</td>\n",
       "      <td>0</td>\n",
       "      <td>1</td>\n",
       "      <td>0</td>\n",
       "      <td>0</td>\n",
       "      <td>0</td>\n",
       "      <td>0</td>\n",
       "      <td>1</td>\n",
       "      <td>0</td>\n",
       "      <td>0</td>\n",
       "    </tr>\n",
       "    <tr>\n",
       "      <th>2</th>\n",
       "      <td>0</td>\n",
       "      <td>0</td>\n",
       "      <td>1</td>\n",
       "      <td>0</td>\n",
       "      <td>0</td>\n",
       "      <td>0</td>\n",
       "      <td>0</td>\n",
       "      <td>0</td>\n",
       "      <td>0</td>\n",
       "      <td>0</td>\n",
       "      <td>...</td>\n",
       "      <td>0</td>\n",
       "      <td>0</td>\n",
       "      <td>0</td>\n",
       "      <td>1</td>\n",
       "      <td>0</td>\n",
       "      <td>0</td>\n",
       "      <td>0</td>\n",
       "      <td>0</td>\n",
       "      <td>0</td>\n",
       "      <td>0</td>\n",
       "    </tr>\n",
       "    <tr>\n",
       "      <th>3</th>\n",
       "      <td>1</td>\n",
       "      <td>0</td>\n",
       "      <td>0</td>\n",
       "      <td>0</td>\n",
       "      <td>0</td>\n",
       "      <td>0</td>\n",
       "      <td>0</td>\n",
       "      <td>0</td>\n",
       "      <td>0</td>\n",
       "      <td>1</td>\n",
       "      <td>...</td>\n",
       "      <td>0</td>\n",
       "      <td>0</td>\n",
       "      <td>0</td>\n",
       "      <td>0</td>\n",
       "      <td>0</td>\n",
       "      <td>0</td>\n",
       "      <td>0</td>\n",
       "      <td>0</td>\n",
       "      <td>0</td>\n",
       "      <td>0</td>\n",
       "    </tr>\n",
       "    <tr>\n",
       "      <th>4</th>\n",
       "      <td>1</td>\n",
       "      <td>0</td>\n",
       "      <td>0</td>\n",
       "      <td>0</td>\n",
       "      <td>0</td>\n",
       "      <td>0</td>\n",
       "      <td>0</td>\n",
       "      <td>0</td>\n",
       "      <td>0</td>\n",
       "      <td>0</td>\n",
       "      <td>...</td>\n",
       "      <td>0</td>\n",
       "      <td>0</td>\n",
       "      <td>0</td>\n",
       "      <td>0</td>\n",
       "      <td>0</td>\n",
       "      <td>0</td>\n",
       "      <td>0</td>\n",
       "      <td>0</td>\n",
       "      <td>0</td>\n",
       "      <td>0</td>\n",
       "    </tr>\n",
       "  </tbody>\n",
       "</table>\n",
       "<p>5 rows × 68 columns</p>\n",
       "</div>"
      ],
      "text/plain": [
       "   home_ownership:MORTGAGE  addr_state:AK_DC_KS_WY_ID_ME  \\\n",
       "0                        0                             0   \n",
       "1                        0                             0   \n",
       "2                        0                             0   \n",
       "3                        1                             0   \n",
       "4                        1                             0   \n",
       "\n",
       "   addr_state:SD_OK_MS_MT_NE_IA_ND  addr_state:TN_HI_NV  addr_state:AZ_RI_NY  \\\n",
       "0                                0                    0                    0   \n",
       "1                                0                    0                    0   \n",
       "2                                1                    0                    0   \n",
       "3                                0                    0                    0   \n",
       "4                                0                    0                    0   \n",
       "\n",
       "   addr_state:VA_LA  addr_state:MD_AL_IN_MO  addr_state:MA_AR  \\\n",
       "0                 0                       0                 0   \n",
       "1                 0                       0                 0   \n",
       "2                 0                       0                 0   \n",
       "3                 0                       0                 0   \n",
       "4                 0                       0                 0   \n",
       "\n",
       "   addr_state:MI_DE_WI  addr_state:NC_NM  ...  mths_since_last_delinq:54-82  \\\n",
       "0                    1                 0  ...                             0   \n",
       "1                    0                 0  ...                             0   \n",
       "2                    0                 0  ...                             0   \n",
       "3                    0                 1  ...                             0   \n",
       "4                    0                 0  ...                             0   \n",
       "\n",
       "   mths_since_last_delinq:>=82  dti:12-18  dti:18-22  dti:22-30  dti:>30  \\\n",
       "0                            0          1          0          0        0   \n",
       "1                            0          1          0          0        0   \n",
       "2                            0          0          1          0        0   \n",
       "3                            0          0          0          0        0   \n",
       "4                            0          0          0          0        0   \n",
       "\n",
       "   mths_since_last_record:0-15  mths_since_last_record:15-38  \\\n",
       "0                            0                             0   \n",
       "1                            0                             1   \n",
       "2                            0                             0   \n",
       "3                            0                             0   \n",
       "4                            0                             0   \n",
       "\n",
       "   mths_since_last_record:38-72  mths_since_last_record:>=72  \n",
       "0                             0                            0  \n",
       "1                             0                            0  \n",
       "2                             0                            0  \n",
       "3                             0                            0  \n",
       "4                             0                            0  \n",
       "\n",
       "[5 rows x 68 columns]"
      ]
     },
     "execution_count": 243,
     "metadata": {},
     "output_type": "execute_result"
    }
   ],
   "source": [
    "# Selecting the variables\n",
    "inputs_test_with_ref_cat = loan_data_inputs_test.loc[:,['home_ownership:RENT_OTHER_NONE_ANY',\n",
    "'home_ownership:MORTGAGE',\n",
    "'addr_state:AK_DC_KS_WY_ID_ME',\n",
    "'addr_state:SD_OK_MS_MT_NE_IA_ND',\n",
    "'addr_state:TN_HI_NV',\n",
    "'addr_state:AZ_RI_NY',\n",
    "'addr_state:VA_LA',\n",
    "'addr_state:MD_AL_IN_MO',\n",
    "'addr_state:MA_AR',\n",
    "'addr_state:MI_DE_WI',\n",
    "'addr_state:NC_NM',\n",
    "'addr_state:CO_MN_NH_KY_VT',\n",
    "'addr_state:SC_WV_UT',\n",
    "'purpose:house_moving',\n",
    "'purpose:other_medical',\n",
    "'purpose:vacation_major_purchase',\n",
    "'purpose:wedding_renewable_energy',\n",
    "'sub_grade:G5_G3_G4',\n",
    "'sub_grade:G1_G2_F3_F5',\n",
    "'sub_grade:E2_E4_F4_E5_F1_F2',\n",
    "'term:36',\n",
    "'term:60',\n",
    "'emp_length:0',\n",
    "'emp_length:1',\n",
    "'emp_length:2',\n",
    "'emp_length:3',\n",
    "'emp_length:4',\n",
    "'emp_length:5',\n",
    "'emp_length:6',\n",
    "'emp_length:7',\n",
    "'emp_length:8',\n",
    "'emp_length:9',\n",
    "'emp_length:10',\n",
    "'months_issue_d_date:<49',\n",
    "'months_issue_d_date:49-54',\n",
    "'months_issue_d_date:55-61',\n",
    "'months_issue_d_date:62-77',\n",
    "'months_issue_d_date:>77',\n",
    "'int_rate:<9.548',\n",
    "'int_rate:9.548-12.025',\n",
    "'int_rate:12.025-15.74',\n",
    "'int_rate:15.74-20.281',\n",
    "'int_rate:>20.281',\n",
    "'months_since_earliest_cr_line:<153',\n",
    "'months_since_earliest_cr_line:154-258',\n",
    "'months_since_earliest_cr_line:<258-387',\n",
    "'months_since_earliest_cr_line:<387',\n",
    "'delinq_2yrs:<5',\n",
    "'delinq_2yrs:5-10',\n",
    "'delinq_2yrs:>10',\n",
    "'inq_last_6mths:<4',\n",
    "'inq_last_6mths:4-6',\n",
    "'inq_last_6mths:>6',\n",
    "'acc_now_delinq:<1',\n",
    "'acc_now_delinq:>1',\n",
    "'annual_inc:<20K',\n",
    "'annual_inc:20K-30K',\n",
    "'annual_inc:30K-40K',\n",
    "'annual_inc:40K-50K',\n",
    "'annual_inc:50K-60K',\n",
    "'annual_inc:60K-70K',\n",
    "'annual_inc:70K-80K',\n",
    "'annual_inc:80K-90K',\n",
    "'annual_inc:90K-100K',\n",
    "'annual_inc:100K-120K',\n",
    "'annual_inc:120K-140K',\n",
    "'annual_inc:>140K',\n",
    "'mths_since_last_delinq:Missing',\n",
    "'mths_since_last_delinq:0-7',\n",
    "'mths_since_last_delinq:7-18',\n",
    "'mths_since_last_delinq:18-36',\n",
    "'mths_since_last_delinq:36-54',\n",
    "'mths_since_last_delinq:54-82',\n",
    "'mths_since_last_delinq:>=82',\n",
    "'dti:<12',\n",
    "'dti:12-18',\n",
    "'dti:18-22',\n",
    "'dti:22-30',\n",
    "'dti:>30',\n",
    "'mths_since_last_record:Missing',\n",
    "'mths_since_last_record:0-15',\n",
    "'mths_since_last_record:15-38',\n",
    "'mths_since_last_record:38-72',\n",
    "'mths_since_last_record:>=72']]\n",
    "\n",
    "\n",
    "# Removing the 1 extra dummy variable from the reference categories.\n",
    "ref_categories = ['home_ownership:RENT_OTHER_NONE_ANY',\n",
    "'addr_state:SC_WV_UT',\n",
    "'purpose:wedding_renewable_energy',\n",
    "'sub_grade:G5_G3_G4',\n",
    "'term:36',\n",
    "'emp_length:0',\n",
    "'months_issue_d_date:<49',\n",
    "'int_rate:<9.548',\n",
    "'months_since_earliest_cr_line:<153',\n",
    "'delinq_2yrs:<5',\n",
    "'inq_last_6mths:<4',\n",
    "'acc_now_delinq:<1',\n",
    "'annual_inc:<20K',\n",
    "'mths_since_last_delinq:Missing',\n",
    "'dti:<12',\n",
    "'mths_since_last_record:Missing']\n",
    "\n",
    "inputs_test = inputs_test_with_ref_cat.drop(ref_categories, axis = 1)\n",
    "inputs_test.head()"
   ]
  },
  {
   "cell_type": "code",
   "execution_count": 244,
   "metadata": {},
   "outputs": [],
   "source": [
    "y_hat_test = reg2.model.predict(inputs_test)"
   ]
  },
  {
   "cell_type": "code",
   "execution_count": 245,
   "metadata": {},
   "outputs": [],
   "source": [
    "y_hat_test_proba = reg2.model.predict_proba(inputs_test)"
   ]
  },
  {
   "cell_type": "code",
   "execution_count": 246,
   "metadata": {},
   "outputs": [
    {
     "data": {
      "text/plain": [
       "array([1, 1, 1, ..., 0, 0, 0], dtype=int64)"
      ]
     },
     "execution_count": 246,
     "metadata": {},
     "output_type": "execute_result"
    }
   ],
   "source": [
    "y_hat_test"
   ]
  },
  {
   "cell_type": "code",
   "execution_count": 247,
   "metadata": {},
   "outputs": [
    {
     "data": {
      "text/plain": [
       "array([[0.  , 1.  ],\n",
       "       [0.39, 0.61],\n",
       "       [0.  , 1.  ],\n",
       "       ...,\n",
       "       [0.98, 0.02],\n",
       "       [0.99, 0.01],\n",
       "       [0.91, 0.09]])"
      ]
     },
     "execution_count": 247,
     "metadata": {},
     "output_type": "execute_result"
    }
   ],
   "source": [
    "# Computing the predicted probabilities\n",
    "y_hat_test_proba = reg2.model.predict_proba(inputs_test)\n",
    "y_hat_test_proba"
   ]
  },
  {
   "cell_type": "markdown",
   "metadata": {},
   "source": [
    "The above returns arrays having 2 elements for each borrower. The first one explains the probability of being a bad borrower (PD) and the second one explains the probability of being a good borrower (1 - PD)."
   ]
  },
  {
   "cell_type": "code",
   "execution_count": 248,
   "metadata": {},
   "outputs": [
    {
     "data": {
      "text/plain": [
       "(183116, 2)"
      ]
     },
     "execution_count": 248,
     "metadata": {},
     "output_type": "execute_result"
    }
   ],
   "source": [
    "y_hat_test_proba.shape"
   ]
  },
  {
   "cell_type": "code",
   "execution_count": 249,
   "metadata": {},
   "outputs": [],
   "source": [
    "y_hat_test_proba = y_hat_test_proba[:][:,1]"
   ]
  },
  {
   "cell_type": "code",
   "execution_count": 250,
   "metadata": {},
   "outputs": [
    {
     "data": {
      "text/plain": [
       "array([1.  , 0.61, 1.  , ..., 0.02, 0.01, 0.09])"
      ]
     },
     "execution_count": 250,
     "metadata": {},
     "output_type": "execute_result"
    }
   ],
   "source": [
    "y_hat_test_proba"
   ]
  },
  {
   "cell_type": "code",
   "execution_count": 251,
   "metadata": {},
   "outputs": [],
   "source": [
    "loan_data_targets_test_temp = loan_data_targets_test\n",
    "loan_data_targets_test_temp.reset_index(drop = True, inplace = True)"
   ]
  },
  {
   "cell_type": "code",
   "execution_count": 252,
   "metadata": {},
   "outputs": [],
   "source": [
    "df_actual_predicted_probs = pd.concat([loan_data_targets_test_temp, pd.DataFrame(y_hat_test_proba)], axis = 1)"
   ]
  },
  {
   "cell_type": "code",
   "execution_count": 253,
   "metadata": {},
   "outputs": [
    {
     "data": {
      "text/plain": [
       "(183116, 2)"
      ]
     },
     "execution_count": 253,
     "metadata": {},
     "output_type": "execute_result"
    }
   ],
   "source": [
    "df_actual_predicted_probs.shape"
   ]
  },
  {
   "cell_type": "code",
   "execution_count": 254,
   "metadata": {},
   "outputs": [],
   "source": [
    "# Renaming the columns\n",
    "df_actual_predicted_probs.columns = ['loan_data_targets_test', 'y_hat_test_proba']\n",
    "# Resetting the index as the index of loan_data_inputs_test\n",
    "df_actual_predicted_probs.index = loan_data_inputs_test.index"
   ]
  },
  {
   "cell_type": "code",
   "execution_count": 255,
   "metadata": {},
   "outputs": [
    {
     "data": {
      "text/html": [
       "<div>\n",
       "<style scoped>\n",
       "    .dataframe tbody tr th:only-of-type {\n",
       "        vertical-align: middle;\n",
       "    }\n",
       "\n",
       "    .dataframe tbody tr th {\n",
       "        vertical-align: top;\n",
       "    }\n",
       "\n",
       "    .dataframe thead th {\n",
       "        text-align: right;\n",
       "    }\n",
       "</style>\n",
       "<table border=\"1\" class=\"dataframe\">\n",
       "  <thead>\n",
       "    <tr style=\"text-align: right;\">\n",
       "      <th></th>\n",
       "      <th>loan_data_targets_test</th>\n",
       "      <th>y_hat_test_proba</th>\n",
       "    </tr>\n",
       "  </thead>\n",
       "  <tbody>\n",
       "    <tr>\n",
       "      <th>0</th>\n",
       "      <td>1</td>\n",
       "      <td>0.997203</td>\n",
       "    </tr>\n",
       "    <tr>\n",
       "      <th>1</th>\n",
       "      <td>1</td>\n",
       "      <td>0.613478</td>\n",
       "    </tr>\n",
       "    <tr>\n",
       "      <th>2</th>\n",
       "      <td>1</td>\n",
       "      <td>0.997261</td>\n",
       "    </tr>\n",
       "    <tr>\n",
       "      <th>3</th>\n",
       "      <td>1</td>\n",
       "      <td>0.832419</td>\n",
       "    </tr>\n",
       "    <tr>\n",
       "      <th>4</th>\n",
       "      <td>1</td>\n",
       "      <td>0.983342</td>\n",
       "    </tr>\n",
       "  </tbody>\n",
       "</table>\n",
       "</div>"
      ],
      "text/plain": [
       "   loan_data_targets_test  y_hat_test_proba\n",
       "0                       1          0.997203\n",
       "1                       1          0.613478\n",
       "2                       1          0.997261\n",
       "3                       1          0.832419\n",
       "4                       1          0.983342"
      ]
     },
     "execution_count": 255,
     "metadata": {},
     "output_type": "execute_result"
    }
   ],
   "source": [
    "df_actual_predicted_probs.head()"
   ]
  },
  {
   "cell_type": "markdown",
   "metadata": {},
   "source": [
    "### Accuracy and AUC "
   ]
  },
  {
   "cell_type": "code",
   "execution_count": 256,
   "metadata": {},
   "outputs": [],
   "source": [
    "# Setting the default threshold\n",
    "tr = 0.90\n",
    "# Sorting by threshold\n",
    "df_actual_predicted_probs['y_hat_test'] = np.where(df_actual_predicted_probs['y_hat_test_proba'] > tr,1,0)"
   ]
  },
  {
   "cell_type": "code",
   "execution_count": 257,
   "metadata": {
    "scrolled": true
   },
   "outputs": [
    {
     "data": {
      "text/html": [
       "<div>\n",
       "<style scoped>\n",
       "    .dataframe tbody tr th:only-of-type {\n",
       "        vertical-align: middle;\n",
       "    }\n",
       "\n",
       "    .dataframe tbody tr th {\n",
       "        vertical-align: top;\n",
       "    }\n",
       "\n",
       "    .dataframe thead th {\n",
       "        text-align: right;\n",
       "    }\n",
       "</style>\n",
       "<table border=\"1\" class=\"dataframe\">\n",
       "  <thead>\n",
       "    <tr style=\"text-align: right;\">\n",
       "      <th></th>\n",
       "      <th>loan_data_targets_test</th>\n",
       "      <th>y_hat_test_proba</th>\n",
       "      <th>y_hat_test</th>\n",
       "    </tr>\n",
       "  </thead>\n",
       "  <tbody>\n",
       "    <tr>\n",
       "      <th>0</th>\n",
       "      <td>1</td>\n",
       "      <td>0.997203</td>\n",
       "      <td>1</td>\n",
       "    </tr>\n",
       "    <tr>\n",
       "      <th>1</th>\n",
       "      <td>1</td>\n",
       "      <td>0.613478</td>\n",
       "      <td>0</td>\n",
       "    </tr>\n",
       "    <tr>\n",
       "      <th>2</th>\n",
       "      <td>1</td>\n",
       "      <td>0.997261</td>\n",
       "      <td>1</td>\n",
       "    </tr>\n",
       "    <tr>\n",
       "      <th>3</th>\n",
       "      <td>1</td>\n",
       "      <td>0.832419</td>\n",
       "      <td>0</td>\n",
       "    </tr>\n",
       "    <tr>\n",
       "      <th>4</th>\n",
       "      <td>1</td>\n",
       "      <td>0.983342</td>\n",
       "      <td>1</td>\n",
       "    </tr>\n",
       "  </tbody>\n",
       "</table>\n",
       "</div>"
      ],
      "text/plain": [
       "   loan_data_targets_test  y_hat_test_proba  y_hat_test\n",
       "0                       1          0.997203           1\n",
       "1                       1          0.613478           0\n",
       "2                       1          0.997261           1\n",
       "3                       1          0.832419           0\n",
       "4                       1          0.983342           1"
      ]
     },
     "execution_count": 257,
     "metadata": {},
     "output_type": "execute_result"
    }
   ],
   "source": [
    "df_actual_predicted_probs.head()"
   ]
  },
  {
   "cell_type": "code",
   "execution_count": 258,
   "metadata": {},
   "outputs": [
    {
     "data": {
      "text/html": [
       "<div>\n",
       "<style scoped>\n",
       "    .dataframe tbody tr th:only-of-type {\n",
       "        vertical-align: middle;\n",
       "    }\n",
       "\n",
       "    .dataframe tbody tr th {\n",
       "        vertical-align: top;\n",
       "    }\n",
       "\n",
       "    .dataframe thead th {\n",
       "        text-align: right;\n",
       "    }\n",
       "</style>\n",
       "<table border=\"1\" class=\"dataframe\">\n",
       "  <thead>\n",
       "    <tr style=\"text-align: right;\">\n",
       "      <th>Predicted</th>\n",
       "      <th>0</th>\n",
       "      <th>1</th>\n",
       "    </tr>\n",
       "    <tr>\n",
       "      <th>Actual</th>\n",
       "      <th></th>\n",
       "      <th></th>\n",
       "    </tr>\n",
       "  </thead>\n",
       "  <tbody>\n",
       "    <tr>\n",
       "      <th>0</th>\n",
       "      <td>90432</td>\n",
       "      <td>1126</td>\n",
       "    </tr>\n",
       "    <tr>\n",
       "      <th>1</th>\n",
       "      <td>44602</td>\n",
       "      <td>46956</td>\n",
       "    </tr>\n",
       "  </tbody>\n",
       "</table>\n",
       "</div>"
      ],
      "text/plain": [
       "Predicted      0      1\n",
       "Actual                 \n",
       "0          90432   1126\n",
       "1          44602  46956"
      ]
     },
     "execution_count": 258,
     "metadata": {},
     "output_type": "execute_result"
    }
   ],
   "source": [
    "# Creating a Confusion Matrix\n",
    "pd.crosstab(df_actual_predicted_probs['loan_data_targets_test'], df_actual_predicted_probs['y_hat_test'],\n",
    "           rownames = ['Actual'], colnames = ['Predicted'])"
   ]
  },
  {
   "cell_type": "code",
   "execution_count": 259,
   "metadata": {},
   "outputs": [
    {
     "data": {
      "text/html": [
       "<div>\n",
       "<style scoped>\n",
       "    .dataframe tbody tr th:only-of-type {\n",
       "        vertical-align: middle;\n",
       "    }\n",
       "\n",
       "    .dataframe tbody tr th {\n",
       "        vertical-align: top;\n",
       "    }\n",
       "\n",
       "    .dataframe thead th {\n",
       "        text-align: right;\n",
       "    }\n",
       "</style>\n",
       "<table border=\"1\" class=\"dataframe\">\n",
       "  <thead>\n",
       "    <tr style=\"text-align: right;\">\n",
       "      <th>Predicted</th>\n",
       "      <th>0</th>\n",
       "      <th>1</th>\n",
       "    </tr>\n",
       "    <tr>\n",
       "      <th>Actual</th>\n",
       "      <th></th>\n",
       "      <th></th>\n",
       "    </tr>\n",
       "  </thead>\n",
       "  <tbody>\n",
       "    <tr>\n",
       "      <th>0</th>\n",
       "      <td>0.493851</td>\n",
       "      <td>0.006149</td>\n",
       "    </tr>\n",
       "    <tr>\n",
       "      <th>1</th>\n",
       "      <td>0.243572</td>\n",
       "      <td>0.256428</td>\n",
       "    </tr>\n",
       "  </tbody>\n",
       "</table>\n",
       "</div>"
      ],
      "text/plain": [
       "Predicted         0         1\n",
       "Actual                       \n",
       "0          0.493851  0.006149\n",
       "1          0.243572  0.256428"
      ]
     },
     "execution_count": 259,
     "metadata": {},
     "output_type": "execute_result"
    }
   ],
   "source": [
    "pd.crosstab(df_actual_predicted_probs['loan_data_targets_test'], df_actual_predicted_probs['y_hat_test'],\n",
    "           rownames = ['Actual'], colnames = ['Predicted']) / df_actual_predicted_probs.shape[0]"
   ]
  },
  {
   "cell_type": "code",
   "execution_count": 260,
   "metadata": {},
   "outputs": [
    {
     "data": {
      "text/plain": [
       "0.7502785119814762"
      ]
     },
     "execution_count": 260,
     "metadata": {},
     "output_type": "execute_result"
    }
   ],
   "source": [
    "# Calculating Accuracy\n",
    "(pd.crosstab(df_actual_predicted_probs['loan_data_targets_test'], df_actual_predicted_probs['y_hat_test'],\n",
    "           rownames = ['Actual'], colnames = ['Predicted']) / df_actual_predicted_probs.shape[0]).iloc[0,0] + (pd.crosstab(df_actual_predicted_probs['loan_data_targets_test'], df_actual_predicted_probs['y_hat_test'],\n",
    "           rownames = ['Actual'], colnames = ['Predicted']) / df_actual_predicted_probs.shape[0]).iloc[1,1]"
   ]
  },
  {
   "cell_type": "markdown",
   "metadata": {},
   "source": [
    "We get an accuracy of 75.02%."
   ]
  },
  {
   "cell_type": "code",
   "execution_count": 261,
   "metadata": {},
   "outputs": [],
   "source": [
    "from sklearn.metrics import roc_curve, roc_auc_score"
   ]
  },
  {
   "cell_type": "code",
   "execution_count": 262,
   "metadata": {},
   "outputs": [
    {
     "data": {
      "text/plain": [
       "(array([0., 0., 0., ..., 1., 1., 1.]),\n",
       " array([0.00e+00, 1.09e-05, 5.59e-03, ..., 1.00e+00, 1.00e+00, 1.00e+00]),\n",
       " array([2.00e+00, 1.00e+00, 1.00e+00, ..., 1.40e-04, 1.22e-04, 7.60e-05]))"
      ]
     },
     "execution_count": 262,
     "metadata": {},
     "output_type": "execute_result"
    }
   ],
   "source": [
    "roc_curve(df_actual_predicted_probs['loan_data_targets_test'], df_actual_predicted_probs['y_hat_test_proba'])"
   ]
  },
  {
   "cell_type": "code",
   "execution_count": 263,
   "metadata": {},
   "outputs": [],
   "source": [
    "fpr,tpr,thresholds = roc_curve(df_actual_predicted_probs['loan_data_targets_test'],\n",
    "                              df_actual_predicted_probs['y_hat_test_proba'])"
   ]
  },
  {
   "cell_type": "code",
   "execution_count": 264,
   "metadata": {},
   "outputs": [],
   "source": [
    "import matplotlib.pyplot as plt\n",
    "import seaborn as sns\n",
    "sns.set()"
   ]
  },
  {
   "cell_type": "code",
   "execution_count": 265,
   "metadata": {},
   "outputs": [
    {
     "data": {
      "text/plain": [
       "Text(0.5, 1.0, 'ROC curve')"
      ]
     },
     "execution_count": 265,
     "metadata": {},
     "output_type": "execute_result"
    },
    {
     "data": {
      "image/png": "[encoded data removed]",
      "text/plain": [
       "<Figure size 432x288 with 1 Axes>"
      ]
     },
     "metadata": {},
     "output_type": "display_data"
    }
   ],
   "source": [
    "# ROC \n",
    "plt.plot(fpr,tpr)\n",
    "# Benchmark (predicting by chance)\n",
    "plt.plot(fpr,fpr,linestyle = '--', color = 'k')\n",
    "plt.xlabel('False Positive Rate')\n",
    "plt.ylabel('True Positive Rate')\n",
    "plt.title('ROC curve')"
   ]
  },
  {
   "cell_type": "code",
   "execution_count": 266,
   "metadata": {},
   "outputs": [
    {
     "data": {
      "text/plain": [
       "0.9542114545855291"
      ]
     },
     "execution_count": 266,
     "metadata": {},
     "output_type": "execute_result"
    }
   ],
   "source": [
    "# Calculating the AUROC\n",
    "AUROC = roc_auc_score(df_actual_predicted_probs['loan_data_targets_test'], df_actual_predicted_probs['y_hat_test_proba'])\n",
    "AUROC"
   ]
  },
  {
   "cell_type": "markdown",
   "metadata": {},
   "source": [
    "We get a fair AUROC score of 95.42%"
   ]
  },
  {
   "cell_type": "markdown",
   "metadata": {},
   "source": [
    "### Gini Coefficient & Kolmogorov-Smirnov"
   ]
  },
  {
   "cell_type": "code",
   "execution_count": 267,
   "metadata": {},
   "outputs": [
    {
     "data": {
      "text/html": [
       "<div>\n",
       "<style scoped>\n",
       "    .dataframe tbody tr th:only-of-type {\n",
       "        vertical-align: middle;\n",
       "    }\n",
       "\n",
       "    .dataframe tbody tr th {\n",
       "        vertical-align: top;\n",
       "    }\n",
       "\n",
       "    .dataframe thead th {\n",
       "        text-align: right;\n",
       "    }\n",
       "</style>\n",
       "<table border=\"1\" class=\"dataframe\">\n",
       "  <thead>\n",
       "    <tr style=\"text-align: right;\">\n",
       "      <th></th>\n",
       "      <th>loan_data_targets_test</th>\n",
       "      <th>y_hat_test_proba</th>\n",
       "      <th>y_hat_test</th>\n",
       "    </tr>\n",
       "  </thead>\n",
       "  <tbody>\n",
       "    <tr>\n",
       "      <th>111772</th>\n",
       "      <td>0</td>\n",
       "      <td>0.000076</td>\n",
       "      <td>0</td>\n",
       "    </tr>\n",
       "    <tr>\n",
       "      <th>182578</th>\n",
       "      <td>0</td>\n",
       "      <td>0.000076</td>\n",
       "      <td>0</td>\n",
       "    </tr>\n",
       "    <tr>\n",
       "      <th>103315</th>\n",
       "      <td>0</td>\n",
       "      <td>0.000076</td>\n",
       "      <td>0</td>\n",
       "    </tr>\n",
       "    <tr>\n",
       "      <th>161021</th>\n",
       "      <td>0</td>\n",
       "      <td>0.000076</td>\n",
       "      <td>0</td>\n",
       "    </tr>\n",
       "    <tr>\n",
       "      <th>161123</th>\n",
       "      <td>0</td>\n",
       "      <td>0.000076</td>\n",
       "      <td>0</td>\n",
       "    </tr>\n",
       "  </tbody>\n",
       "</table>\n",
       "</div>"
      ],
      "text/plain": [
       "        loan_data_targets_test  y_hat_test_proba  y_hat_test\n",
       "111772                       0          0.000076           0\n",
       "182578                       0          0.000076           0\n",
       "103315                       0          0.000076           0\n",
       "161021                       0          0.000076           0\n",
       "161123                       0          0.000076           0"
      ]
     },
     "execution_count": 267,
     "metadata": {},
     "output_type": "execute_result"
    }
   ],
   "source": [
    "# Soritng by predicted probabilites in ascending order\n",
    "df_actual_predicted_probs = df_actual_predicted_probs.sort_values('y_hat_test_proba')\n",
    "df_actual_predicted_probs.head()"
   ]
  },
  {
   "cell_type": "code",
   "execution_count": 268,
   "metadata": {},
   "outputs": [
    {
     "data": {
      "text/html": [
       "<div>\n",
       "<style scoped>\n",
       "    .dataframe tbody tr th:only-of-type {\n",
       "        vertical-align: middle;\n",
       "    }\n",
       "\n",
       "    .dataframe tbody tr th {\n",
       "        vertical-align: top;\n",
       "    }\n",
       "\n",
       "    .dataframe thead th {\n",
       "        text-align: right;\n",
       "    }\n",
       "</style>\n",
       "<table border=\"1\" class=\"dataframe\">\n",
       "  <thead>\n",
       "    <tr style=\"text-align: right;\">\n",
       "      <th></th>\n",
       "      <th>index</th>\n",
       "      <th>loan_data_targets_test</th>\n",
       "      <th>y_hat_test_proba</th>\n",
       "      <th>y_hat_test</th>\n",
       "    </tr>\n",
       "  </thead>\n",
       "  <tbody>\n",
       "    <tr>\n",
       "      <th>0</th>\n",
       "      <td>111772</td>\n",
       "      <td>0</td>\n",
       "      <td>0.000076</td>\n",
       "      <td>0</td>\n",
       "    </tr>\n",
       "    <tr>\n",
       "      <th>1</th>\n",
       "      <td>182578</td>\n",
       "      <td>0</td>\n",
       "      <td>0.000076</td>\n",
       "      <td>0</td>\n",
       "    </tr>\n",
       "    <tr>\n",
       "      <th>2</th>\n",
       "      <td>103315</td>\n",
       "      <td>0</td>\n",
       "      <td>0.000076</td>\n",
       "      <td>0</td>\n",
       "    </tr>\n",
       "    <tr>\n",
       "      <th>3</th>\n",
       "      <td>161021</td>\n",
       "      <td>0</td>\n",
       "      <td>0.000076</td>\n",
       "      <td>0</td>\n",
       "    </tr>\n",
       "    <tr>\n",
       "      <th>4</th>\n",
       "      <td>161123</td>\n",
       "      <td>0</td>\n",
       "      <td>0.000076</td>\n",
       "      <td>0</td>\n",
       "    </tr>\n",
       "  </tbody>\n",
       "</table>\n",
       "</div>"
      ],
      "text/plain": [
       "    index  loan_data_targets_test  y_hat_test_proba  y_hat_test\n",
       "0  111772                       0          0.000076           0\n",
       "1  182578                       0          0.000076           0\n",
       "2  103315                       0          0.000076           0\n",
       "3  161021                       0          0.000076           0\n",
       "4  161123                       0          0.000076           0"
      ]
     },
     "execution_count": 268,
     "metadata": {},
     "output_type": "execute_result"
    }
   ],
   "source": [
    "# Reindexing the data\n",
    "df_actual_predicted_probs = df_actual_predicted_probs.reset_index()\n",
    "df_actual_predicted_probs.head()"
   ]
  },
  {
   "cell_type": "code",
   "execution_count": 269,
   "metadata": {},
   "outputs": [],
   "source": [
    "# Cumulative % of total population, good and bad borrowers\n",
    "df_actual_predicted_probs['Cumulative N Population'] = df_actual_predicted_probs.index + 1\n",
    "df_actual_predicted_probs['Cumulative N Good'] = df_actual_predicted_probs['loan_data_targets_test'].cumsum()\n",
    "df_actual_predicted_probs['Cumulative N Bad'] = df_actual_predicted_probs['Cumulative N Population'] - df_actual_predicted_probs['loan_data_targets_test'].cumsum()"
   ]
  },
  {
   "cell_type": "code",
   "execution_count": 270,
   "metadata": {},
   "outputs": [
    {
     "data": {
      "text/html": [
       "<div>\n",
       "<style scoped>\n",
       "    .dataframe tbody tr th:only-of-type {\n",
       "        vertical-align: middle;\n",
       "    }\n",
       "\n",
       "    .dataframe tbody tr th {\n",
       "        vertical-align: top;\n",
       "    }\n",
       "\n",
       "    .dataframe thead th {\n",
       "        text-align: right;\n",
       "    }\n",
       "</style>\n",
       "<table border=\"1\" class=\"dataframe\">\n",
       "  <thead>\n",
       "    <tr style=\"text-align: right;\">\n",
       "      <th></th>\n",
       "      <th>index</th>\n",
       "      <th>loan_data_targets_test</th>\n",
       "      <th>y_hat_test_proba</th>\n",
       "      <th>y_hat_test</th>\n",
       "      <th>Cumulative N Population</th>\n",
       "      <th>Cumulative N Good</th>\n",
       "      <th>Cumulative N Bad</th>\n",
       "    </tr>\n",
       "  </thead>\n",
       "  <tbody>\n",
       "    <tr>\n",
       "      <th>0</th>\n",
       "      <td>111772</td>\n",
       "      <td>0</td>\n",
       "      <td>0.000076</td>\n",
       "      <td>0</td>\n",
       "      <td>1</td>\n",
       "      <td>0</td>\n",
       "      <td>1</td>\n",
       "    </tr>\n",
       "    <tr>\n",
       "      <th>1</th>\n",
       "      <td>182578</td>\n",
       "      <td>0</td>\n",
       "      <td>0.000076</td>\n",
       "      <td>0</td>\n",
       "      <td>2</td>\n",
       "      <td>0</td>\n",
       "      <td>2</td>\n",
       "    </tr>\n",
       "    <tr>\n",
       "      <th>2</th>\n",
       "      <td>103315</td>\n",
       "      <td>0</td>\n",
       "      <td>0.000076</td>\n",
       "      <td>0</td>\n",
       "      <td>3</td>\n",
       "      <td>0</td>\n",
       "      <td>3</td>\n",
       "    </tr>\n",
       "    <tr>\n",
       "      <th>3</th>\n",
       "      <td>161021</td>\n",
       "      <td>0</td>\n",
       "      <td>0.000076</td>\n",
       "      <td>0</td>\n",
       "      <td>4</td>\n",
       "      <td>0</td>\n",
       "      <td>4</td>\n",
       "    </tr>\n",
       "    <tr>\n",
       "      <th>4</th>\n",
       "      <td>161123</td>\n",
       "      <td>0</td>\n",
       "      <td>0.000076</td>\n",
       "      <td>0</td>\n",
       "      <td>5</td>\n",
       "      <td>0</td>\n",
       "      <td>5</td>\n",
       "    </tr>\n",
       "  </tbody>\n",
       "</table>\n",
       "</div>"
      ],
      "text/plain": [
       "    index  loan_data_targets_test  y_hat_test_proba  y_hat_test  \\\n",
       "0  111772                       0          0.000076           0   \n",
       "1  182578                       0          0.000076           0   \n",
       "2  103315                       0          0.000076           0   \n",
       "3  161021                       0          0.000076           0   \n",
       "4  161123                       0          0.000076           0   \n",
       "\n",
       "   Cumulative N Population  Cumulative N Good  Cumulative N Bad  \n",
       "0                        1                  0                 1  \n",
       "1                        2                  0                 2  \n",
       "2                        3                  0                 3  \n",
       "3                        4                  0                 4  \n",
       "4                        5                  0                 5  "
      ]
     },
     "execution_count": 270,
     "metadata": {},
     "output_type": "execute_result"
    }
   ],
   "source": [
    "df_actual_predicted_probs.head()"
   ]
  },
  {
   "cell_type": "code",
   "execution_count": 271,
   "metadata": {},
   "outputs": [],
   "source": [
    "# Calculating Percentages\n",
    "df_actual_predicted_probs['Cumulative Perc Population'] = df_actual_predicted_probs['Cumulative N Population'] / df_actual_predicted_probs.shape[0]\n",
    "df_actual_predicted_probs['Cumulative Perc Good'] = df_actual_predicted_probs['Cumulative N Good'] / df_actual_predicted_probs['loan_data_targets_test'].sum()\n",
    "df_actual_predicted_probs['Cumulative Perc Bad'] = df_actual_predicted_probs['Cumulative N Bad'] / (df_actual_predicted_probs.shape[0] - df_actual_predicted_probs['loan_data_targets_test'].sum())\n"
   ]
  },
  {
   "cell_type": "code",
   "execution_count": 272,
   "metadata": {},
   "outputs": [
    {
     "data": {
      "text/plain": [
       "Text(0.5, 1.0, 'Gini')"
      ]
     },
     "execution_count": 272,
     "metadata": {},
     "output_type": "execute_result"
    },
    {
     "data": {
      "image/png": "[encoded data removed]",
      "text/plain": [
       "<Figure size 432x288 with 1 Axes>"
      ]
     },
     "metadata": {},
     "output_type": "display_data"
    }
   ],
   "source": [
    "# Plotting Gini\n",
    "plt.plot(df_actual_predicted_probs['Cumulative Perc Population'], df_actual_predicted_probs['Cumulative Perc Bad'])\n",
    "plt.plot(df_actual_predicted_probs['Cumulative Perc Population'], df_actual_predicted_probs['Cumulative Perc Population'],\n",
    "         linestyle = '--', color = 'k')\n",
    "plt.xlabel('Cumulative % Poplulation')\n",
    "plt.ylabel('Cumulative % Bad')\n",
    "plt.title('Gini')"
   ]
  },
  {
   "cell_type": "code",
   "execution_count": 273,
   "metadata": {},
   "outputs": [
    {
     "data": {
      "text/plain": [
       "0.9084229091710583"
      ]
     },
     "execution_count": 273,
     "metadata": {},
     "output_type": "execute_result"
    }
   ],
   "source": [
    "Gini = AUROC *2 -1\n",
    "Gini"
   ]
  },
  {
   "cell_type": "markdown",
   "metadata": {},
   "source": [
    "The Gini coefficient for our model is 90.84%"
   ]
  },
  {
   "cell_type": "code",
   "execution_count": 274,
   "metadata": {},
   "outputs": [
    {
     "data": {
      "text/plain": [
       "Text(0.5, 1.0, 'Kolmogorov-Smirnov')"
      ]
     },
     "execution_count": 274,
     "metadata": {},
     "output_type": "execute_result"
    },
    {
     "data": {
      "image/png": "[encoded data removed]",
      "text/plain": [
       "<Figure size 432x288 with 1 Axes>"
      ]
     },
     "metadata": {},
     "output_type": "display_data"
    }
   ],
   "source": [
    "# Plotting the Kolmogorov-Smirnov plot\n",
    "plt.plot(df_actual_predicted_probs['y_hat_test_proba'], df_actual_predicted_probs['Cumulative Perc Bad'], color = 'r')\n",
    "plt.plot(df_actual_predicted_probs['y_hat_test_proba'], df_actual_predicted_probs['Cumulative Perc Good'], color = 'b')\n",
    "plt.xlabel('Estimated Probability of being Good')\n",
    "plt.ylabel('Cumulative %')\n",
    "plt.title('Kolmogorov-Smirnov')"
   ]
  },
  {
   "cell_type": "code",
   "execution_count": 275,
   "metadata": {},
   "outputs": [
    {
     "data": {
      "text/plain": [
       "0.7771248825880862"
      ]
     },
     "execution_count": 275,
     "metadata": {},
     "output_type": "execute_result"
    }
   ],
   "source": [
    "KS = max(df_actual_predicted_probs['Cumulative Perc Bad'] - df_actual_predicted_probs['Cumulative Perc Good'])\n",
    "KS"
   ]
  },
  {
   "cell_type": "markdown",
   "metadata": {},
   "source": [
    "The two cumulative distribution functions are sufficiently far away from each other and the model has satisfactory predictive power."
   ]
  }
 ],
 "metadata": {
  "kernelspec": {
   "display_name": "Python 3",
   "language": "python",
   "name": "python3"
  },
  "language_info": {
   "codemirror_mode": {
    "name": "ipython",
    "version": 3
   },
   "file_extension": ".py",
   "mimetype": "text/x-python",
   "name": "python",
   "nbconvert_exporter": "python",
   "pygments_lexer": "ipython3",
   "version": "3.7.3"
  }
 },
 "nbformat": 4,
 "nbformat_minor": 2
}
